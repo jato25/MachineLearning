{
 "cells": [
  {
   "cell_type": "markdown",
   "metadata": {
    "colab_type": "text",
    "id": "enPQ09eL4bZy"
   },
   "source": [
    "# Clasificación de canciones\n",
    "### Javier Andres Téllez Ortiz - 201917861\n"
   ]
  },
  {
   "cell_type": "markdown",
   "metadata": {
    "colab_type": "text",
    "id": "KLhw4JCX4bZ2"
   },
   "source": [
    "##### Se descarga el conjunto de datos y se descomprime"
   ]
  },
  {
   "cell_type": "code",
   "execution_count": 1,
   "metadata": {
    "colab": {
     "base_uri": "https://localhost:8080/",
     "height": 170
    },
    "colab_type": "code",
    "executionInfo": {
     "elapsed": 5633,
     "status": "ok",
     "timestamp": 1582139862894,
     "user": {
      "displayName": "Javier Andres Tellez Ortiz",
      "photoUrl": "https://lh3.googleusercontent.com/a-/AAuE7mCI2mS81Su_mN15W6I_TEgKAwPML39oZE2WDmIW=s64",
      "userId": "12457688987056743232"
     },
     "user_tz": 300
    },
    "id": "9_26cZQl4iZc",
    "outputId": "8180232f-4444-42bd-9170-ed51d1f9cfee"
   },
   "outputs": [
    {
     "name": "stdout",
     "output_type": "stream",
     "text": [
      "Requirement already satisfied: wget in d:\\programas\\anaconda3\\lib\\site-packages (3.2)\n",
      "Note: you may need to restart the kernel to use updated packages.\n"
     ]
    }
   ],
   "source": [
    "pip install wget"
   ]
  },
  {
   "cell_type": "code",
   "execution_count": 2,
   "metadata": {
    "colab": {},
    "colab_type": "code",
    "id": "s-Pygbwu4bZ4"
   },
   "outputs": [
    {
     "name": "stdout",
     "output_type": "stream",
     "text": [
      "100% [........................................................................] 12656044 / 12656044"
     ]
    }
   ],
   "source": [
    "import wget\n",
    "from zipfile import ZipFile\n",
    "\n",
    "##Se descarga el archivo del repositorio \n",
    "file = wget.download(\"http://millionsongdataset.com/sites/default/files/AdditionalFiles/msd_genre_dataset.zip\")\n",
    "\n",
    "##Se abre el archivo y se descomprime\n",
    "zpFile = ZipFile(file)\n",
    "zpFile.extractall()\n",
    "zpFile.close()"
   ]
  },
  {
   "cell_type": "markdown",
   "metadata": {},
   "source": [
    "##### Se abre el conjunto de datos, se eliminan los datos con algún elemento faltante y se examina la estructura del mismo."
   ]
  },
  {
   "cell_type": "code",
   "execution_count": 13,
   "metadata": {
    "colab": {
     "base_uri": "https://localhost:8080/",
     "height": 479
    },
    "colab_type": "code",
    "executionInfo": {
     "elapsed": 1036,
     "status": "ok",
     "timestamp": 1582139884479,
     "user": {
      "displayName": "Javier Andres Tellez Ortiz",
      "photoUrl": "https://lh3.googleusercontent.com/a-/AAuE7mCI2mS81Su_mN15W6I_TEgKAwPML39oZE2WDmIW=s64",
      "userId": "12457688987056743232"
     },
     "user_tz": 300
    },
    "id": "Hs7TELPK4bZ_",
    "outputId": "81beccd7-bf25-486d-fe1d-838085125e89"
   },
   "outputs": [
    {
     "data": {
      "text/html": [
       "<div>\n",
       "<style scoped>\n",
       "    .dataframe tbody tr th:only-of-type {\n",
       "        vertical-align: middle;\n",
       "    }\n",
       "\n",
       "    .dataframe tbody tr th {\n",
       "        vertical-align: top;\n",
       "    }\n",
       "\n",
       "    .dataframe thead th {\n",
       "        text-align: right;\n",
       "    }\n",
       "</style>\n",
       "<table border=\"1\" class=\"dataframe\">\n",
       "  <thead>\n",
       "    <tr style=\"text-align: right;\">\n",
       "      <th></th>\n",
       "      <th>%genre</th>\n",
       "      <th>track_id</th>\n",
       "      <th>artist_name</th>\n",
       "      <th>title</th>\n",
       "      <th>loudness</th>\n",
       "      <th>tempo</th>\n",
       "      <th>time_signature</th>\n",
       "      <th>key</th>\n",
       "      <th>mode</th>\n",
       "      <th>duration</th>\n",
       "      <th>...</th>\n",
       "      <th>var_timbre3</th>\n",
       "      <th>var_timbre4</th>\n",
       "      <th>var_timbre5</th>\n",
       "      <th>var_timbre6</th>\n",
       "      <th>var_timbre7</th>\n",
       "      <th>var_timbre8</th>\n",
       "      <th>var_timbre9</th>\n",
       "      <th>var_timbre10</th>\n",
       "      <th>var_timbre11</th>\n",
       "      <th>var_timbre12</th>\n",
       "    </tr>\n",
       "  </thead>\n",
       "  <tbody>\n",
       "    <tr>\n",
       "      <th>0</th>\n",
       "      <td>classic pop and rock</td>\n",
       "      <td>TRFCOOU128F427AEC0</td>\n",
       "      <td>Blue Oyster Cult</td>\n",
       "      <td>Mes Dames Sarat</td>\n",
       "      <td>-8.697</td>\n",
       "      <td>155.007</td>\n",
       "      <td>1</td>\n",
       "      <td>9</td>\n",
       "      <td>1</td>\n",
       "      <td>246.33424</td>\n",
       "      <td>...</td>\n",
       "      <td>1255.514569</td>\n",
       "      <td>580.030472</td>\n",
       "      <td>598.485223</td>\n",
       "      <td>575.337671</td>\n",
       "      <td>322.068603</td>\n",
       "      <td>321.726029</td>\n",
       "      <td>232.700609</td>\n",
       "      <td>186.805303</td>\n",
       "      <td>181.938688</td>\n",
       "      <td>151.508011</td>\n",
       "    </tr>\n",
       "    <tr>\n",
       "      <th>1</th>\n",
       "      <td>classic pop and rock</td>\n",
       "      <td>TRNJTPB128F427AE9F</td>\n",
       "      <td>Blue Oyster Cult</td>\n",
       "      <td>Screams</td>\n",
       "      <td>-10.659</td>\n",
       "      <td>148.462</td>\n",
       "      <td>1</td>\n",
       "      <td>4</td>\n",
       "      <td>0</td>\n",
       "      <td>189.80526</td>\n",
       "      <td>...</td>\n",
       "      <td>2007.653070</td>\n",
       "      <td>1043.474073</td>\n",
       "      <td>585.694981</td>\n",
       "      <td>564.013736</td>\n",
       "      <td>510.177022</td>\n",
       "      <td>400.200186</td>\n",
       "      <td>365.119588</td>\n",
       "      <td>238.099708</td>\n",
       "      <td>197.933757</td>\n",
       "      <td>251.577525</td>\n",
       "    </tr>\n",
       "    <tr>\n",
       "      <th>2</th>\n",
       "      <td>classic pop and rock</td>\n",
       "      <td>TRLFJHA128F427AEEA</td>\n",
       "      <td>Blue Oyster Cult</td>\n",
       "      <td>Dance The Night Away</td>\n",
       "      <td>-13.494</td>\n",
       "      <td>112.909</td>\n",
       "      <td>1</td>\n",
       "      <td>10</td>\n",
       "      <td>0</td>\n",
       "      <td>158.19710</td>\n",
       "      <td>...</td>\n",
       "      <td>1204.856777</td>\n",
       "      <td>2736.520024</td>\n",
       "      <td>730.233239</td>\n",
       "      <td>665.203452</td>\n",
       "      <td>535.775111</td>\n",
       "      <td>439.335059</td>\n",
       "      <td>486.822970</td>\n",
       "      <td>265.333860</td>\n",
       "      <td>447.097987</td>\n",
       "      <td>251.880724</td>\n",
       "    </tr>\n",
       "    <tr>\n",
       "      <th>3</th>\n",
       "      <td>classic pop and rock</td>\n",
       "      <td>TRCQZAG128F427DB97</td>\n",
       "      <td>Blue Oyster Cult</td>\n",
       "      <td>Debbie Denise</td>\n",
       "      <td>-12.786</td>\n",
       "      <td>117.429</td>\n",
       "      <td>4</td>\n",
       "      <td>7</td>\n",
       "      <td>1</td>\n",
       "      <td>250.22649</td>\n",
       "      <td>...</td>\n",
       "      <td>809.755802</td>\n",
       "      <td>563.908070</td>\n",
       "      <td>492.803819</td>\n",
       "      <td>378.382799</td>\n",
       "      <td>372.875044</td>\n",
       "      <td>231.941957</td>\n",
       "      <td>246.313305</td>\n",
       "      <td>168.400152</td>\n",
       "      <td>85.282462</td>\n",
       "      <td>339.897173</td>\n",
       "    </tr>\n",
       "    <tr>\n",
       "      <th>4</th>\n",
       "      <td>classic pop and rock</td>\n",
       "      <td>TRNXMNM128F427DB8C</td>\n",
       "      <td>Blue Oyster Cult</td>\n",
       "      <td>(Don't Fear) The Reaper</td>\n",
       "      <td>-14.093</td>\n",
       "      <td>141.536</td>\n",
       "      <td>4</td>\n",
       "      <td>9</td>\n",
       "      <td>0</td>\n",
       "      <td>307.06893</td>\n",
       "      <td>...</td>\n",
       "      <td>1093.684935</td>\n",
       "      <td>343.556047</td>\n",
       "      <td>889.163314</td>\n",
       "      <td>218.111796</td>\n",
       "      <td>304.862864</td>\n",
       "      <td>178.352161</td>\n",
       "      <td>440.478867</td>\n",
       "      <td>142.669283</td>\n",
       "      <td>81.061326</td>\n",
       "      <td>208.355152</td>\n",
       "    </tr>\n",
       "  </tbody>\n",
       "</table>\n",
       "<p>5 rows × 34 columns</p>\n",
       "</div>"
      ],
      "text/plain": [
       "                 %genre            track_id       artist_name  \\\n",
       "0  classic pop and rock  TRFCOOU128F427AEC0  Blue Oyster Cult   \n",
       "1  classic pop and rock  TRNJTPB128F427AE9F  Blue Oyster Cult   \n",
       "2  classic pop and rock  TRLFJHA128F427AEEA  Blue Oyster Cult   \n",
       "3  classic pop and rock  TRCQZAG128F427DB97  Blue Oyster Cult   \n",
       "4  classic pop and rock  TRNXMNM128F427DB8C  Blue Oyster Cult   \n",
       "\n",
       "                     title  loudness    tempo  time_signature  key  mode  \\\n",
       "0          Mes Dames Sarat    -8.697  155.007               1    9     1   \n",
       "1                  Screams   -10.659  148.462               1    4     0   \n",
       "2     Dance The Night Away   -13.494  112.909               1   10     0   \n",
       "3            Debbie Denise   -12.786  117.429               4    7     1   \n",
       "4  (Don't Fear) The Reaper   -14.093  141.536               4    9     0   \n",
       "\n",
       "    duration  ...  var_timbre3  var_timbre4  var_timbre5  var_timbre6  \\\n",
       "0  246.33424  ...  1255.514569   580.030472   598.485223   575.337671   \n",
       "1  189.80526  ...  2007.653070  1043.474073   585.694981   564.013736   \n",
       "2  158.19710  ...  1204.856777  2736.520024   730.233239   665.203452   \n",
       "3  250.22649  ...   809.755802   563.908070   492.803819   378.382799   \n",
       "4  307.06893  ...  1093.684935   343.556047   889.163314   218.111796   \n",
       "\n",
       "   var_timbre7  var_timbre8  var_timbre9  var_timbre10  var_timbre11  \\\n",
       "0   322.068603   321.726029   232.700609    186.805303    181.938688   \n",
       "1   510.177022   400.200186   365.119588    238.099708    197.933757   \n",
       "2   535.775111   439.335059   486.822970    265.333860    447.097987   \n",
       "3   372.875044   231.941957   246.313305    168.400152     85.282462   \n",
       "4   304.862864   178.352161   440.478867    142.669283     81.061326   \n",
       "\n",
       "   var_timbre12  \n",
       "0    151.508011  \n",
       "1    251.577525  \n",
       "2    251.880724  \n",
       "3    339.897173  \n",
       "4    208.355152  \n",
       "\n",
       "[5 rows x 34 columns]"
      ]
     },
     "execution_count": 13,
     "metadata": {},
     "output_type": "execute_result"
    }
   ],
   "source": [
    "import pandas as pd\n",
    "import numpy as np\n",
    "\n",
    "dataset = pd.read_csv(\"msd_genre_dataset.txt\", skiprows = range(9))\n",
    "\n",
    "dataset.dropna()\n",
    "dataset.head()"
   ]
  },
  {
   "cell_type": "markdown",
   "metadata": {},
   "source": [
    "##### Se generan los histogramas de todas las caracteristicas para el conjunto de datos, se evidencia que algunas de las variables no tienen una distribución aproximadamente normal."
   ]
  },
  {
   "cell_type": "code",
   "execution_count": 14,
   "metadata": {
    "colab": {
     "base_uri": "https://localhost:8080/",
     "height": 879
    },
    "colab_type": "code",
    "executionInfo": {
     "elapsed": 6431,
     "status": "ok",
     "timestamp": 1582140624648,
     "user": {
      "displayName": "Javier Andres Tellez Ortiz",
      "photoUrl": "https://lh3.googleusercontent.com/a-/AAuE7mCI2mS81Su_mN15W6I_TEgKAwPML39oZE2WDmIW=s64",
      "userId": "12457688987056743232"
     },
     "user_tz": 300
    },
    "id": "1ogTJYrv4baE",
    "outputId": "fe554b0e-9293-4037-91a9-f4d775b872d8"
   },
   "outputs": [
    {
     "data": {
      "image/png": "[encoded data removed]",
      "text/plain": [
       "<Figure size 1080x1080 with 30 Axes>"
      ]
     },
     "metadata": {
      "needs_background": "light"
     },
     "output_type": "display_data"
    }
   ],
   "source": [
    "figure = dataset.hist(figsize=(15,15), bins = 50)"
   ]
  },
  {
   "cell_type": "markdown",
   "metadata": {},
   "source": [
    "##### Se analiza la estructura de los datos de acuerdo con el género al que pertenecen. Se evidencia que, para las categorías de interés, la cantidad de datos es similar"
   ]
  },
  {
   "cell_type": "code",
   "execution_count": 15,
   "metadata": {
    "colab": {
     "base_uri": "https://localhost:8080/",
     "height": 359
    },
    "colab_type": "code",
    "executionInfo": {
     "elapsed": 490,
     "status": "ok",
     "timestamp": 1582141281767,
     "user": {
      "displayName": "Javier Andres Tellez Ortiz",
      "photoUrl": "https://lh3.googleusercontent.com/a-/AAuE7mCI2mS81Su_mN15W6I_TEgKAwPML39oZE2WDmIW=s64",
      "userId": "12457688987056743232"
     },
     "user_tz": 300
    },
    "id": "Llbn4Fgq4baJ",
    "outputId": "91f96a8e-dcf3-4263-ec55-cc637e40891e"
   },
   "outputs": [
    {
     "data": {
      "text/html": [
       "<div>\n",
       "<style scoped>\n",
       "    .dataframe tbody tr th:only-of-type {\n",
       "        vertical-align: middle;\n",
       "    }\n",
       "\n",
       "    .dataframe tbody tr th {\n",
       "        vertical-align: top;\n",
       "    }\n",
       "\n",
       "    .dataframe thead th {\n",
       "        text-align: right;\n",
       "    }\n",
       "</style>\n",
       "<table border=\"1\" class=\"dataframe\">\n",
       "  <thead>\n",
       "    <tr style=\"text-align: right;\">\n",
       "      <th></th>\n",
       "      <th>%genre</th>\n",
       "    </tr>\n",
       "  </thead>\n",
       "  <tbody>\n",
       "    <tr>\n",
       "      <th>classic pop and rock</th>\n",
       "      <td>23895</td>\n",
       "    </tr>\n",
       "    <tr>\n",
       "      <th>folk</th>\n",
       "      <td>13192</td>\n",
       "    </tr>\n",
       "    <tr>\n",
       "      <th>dance and electronica</th>\n",
       "      <td>4935</td>\n",
       "    </tr>\n",
       "    <tr>\n",
       "      <th>jazz and blues</th>\n",
       "      <td>4334</td>\n",
       "    </tr>\n",
       "    <tr>\n",
       "      <th>soul and reggae</th>\n",
       "      <td>4016</td>\n",
       "    </tr>\n",
       "    <tr>\n",
       "      <th>punk</th>\n",
       "      <td>3200</td>\n",
       "    </tr>\n",
       "    <tr>\n",
       "      <th>metal</th>\n",
       "      <td>2103</td>\n",
       "    </tr>\n",
       "    <tr>\n",
       "      <th>classical</th>\n",
       "      <td>1874</td>\n",
       "    </tr>\n",
       "    <tr>\n",
       "      <th>pop</th>\n",
       "      <td>1617</td>\n",
       "    </tr>\n",
       "    <tr>\n",
       "      <th>hip-hop</th>\n",
       "      <td>434</td>\n",
       "    </tr>\n",
       "  </tbody>\n",
       "</table>\n",
       "</div>"
      ],
      "text/plain": [
       "                       %genre\n",
       "classic pop and rock    23895\n",
       "folk                    13192\n",
       "dance and electronica    4935\n",
       "jazz and blues           4334\n",
       "soul and reggae          4016\n",
       "punk                     3200\n",
       "metal                    2103\n",
       "classical                1874\n",
       "pop                      1617\n",
       "hip-hop                   434"
      ]
     },
     "execution_count": 15,
     "metadata": {},
     "output_type": "execute_result"
    }
   ],
   "source": [
    "pd.DataFrame(dataset[\"%genre\"].value_counts())"
   ]
  },
  {
   "cell_type": "markdown",
   "metadata": {},
   "source": [
    "##### Se obtienen algunos estadístios relevantes del conjunto de datos estudiado"
   ]
  },
  {
   "cell_type": "code",
   "execution_count": 16,
   "metadata": {
    "colab": {
     "base_uri": "https://localhost:8080/",
     "height": 317
    },
    "colab_type": "code",
    "executionInfo": {
     "elapsed": 718,
     "status": "ok",
     "timestamp": 1582140638953,
     "user": {
      "displayName": "Javier Andres Tellez Ortiz",
      "photoUrl": "https://lh3.googleusercontent.com/a-/AAuE7mCI2mS81Su_mN15W6I_TEgKAwPML39oZE2WDmIW=s64",
      "userId": "12457688987056743232"
     },
     "user_tz": 300
    },
    "id": "gYDexjWA4baO",
    "outputId": "979dd1a8-6557-41ff-a513-f3fd25e52cad"
   },
   "outputs": [
    {
     "data": {
      "text/html": [
       "<div>\n",
       "<style scoped>\n",
       "    .dataframe tbody tr th:only-of-type {\n",
       "        vertical-align: middle;\n",
       "    }\n",
       "\n",
       "    .dataframe tbody tr th {\n",
       "        vertical-align: top;\n",
       "    }\n",
       "\n",
       "    .dataframe thead th {\n",
       "        text-align: right;\n",
       "    }\n",
       "</style>\n",
       "<table border=\"1\" class=\"dataframe\">\n",
       "  <thead>\n",
       "    <tr style=\"text-align: right;\">\n",
       "      <th></th>\n",
       "      <th>loudness</th>\n",
       "      <th>tempo</th>\n",
       "      <th>time_signature</th>\n",
       "      <th>key</th>\n",
       "      <th>mode</th>\n",
       "      <th>duration</th>\n",
       "      <th>avg_timbre1</th>\n",
       "      <th>avg_timbre2</th>\n",
       "      <th>avg_timbre3</th>\n",
       "      <th>avg_timbre4</th>\n",
       "      <th>...</th>\n",
       "      <th>var_timbre3</th>\n",
       "      <th>var_timbre4</th>\n",
       "      <th>var_timbre5</th>\n",
       "      <th>var_timbre6</th>\n",
       "      <th>var_timbre7</th>\n",
       "      <th>var_timbre8</th>\n",
       "      <th>var_timbre9</th>\n",
       "      <th>var_timbre10</th>\n",
       "      <th>var_timbre11</th>\n",
       "      <th>var_timbre12</th>\n",
       "    </tr>\n",
       "  </thead>\n",
       "  <tbody>\n",
       "    <tr>\n",
       "      <th>count</th>\n",
       "      <td>59600.000000</td>\n",
       "      <td>59600.000000</td>\n",
       "      <td>59600.000000</td>\n",
       "      <td>59600.000000</td>\n",
       "      <td>59600.000000</td>\n",
       "      <td>59600.000000</td>\n",
       "      <td>59600.000000</td>\n",
       "      <td>59600.000000</td>\n",
       "      <td>59600.000000</td>\n",
       "      <td>59600.000000</td>\n",
       "      <td>...</td>\n",
       "      <td>59600.000000</td>\n",
       "      <td>59600.000000</td>\n",
       "      <td>59600.000000</td>\n",
       "      <td>59600.000000</td>\n",
       "      <td>59600.000000</td>\n",
       "      <td>59600.000000</td>\n",
       "      <td>59600.000000</td>\n",
       "      <td>59600.000000</td>\n",
       "      <td>59600.000000</td>\n",
       "      <td>59600.000000</td>\n",
       "    </tr>\n",
       "    <tr>\n",
       "      <th>mean</th>\n",
       "      <td>-11.466464</td>\n",
       "      <td>122.644482</td>\n",
       "      <td>3.509027</td>\n",
       "      <td>5.246913</td>\n",
       "      <td>0.698221</td>\n",
       "      <td>249.368358</td>\n",
       "      <td>41.271798</td>\n",
       "      <td>-7.839749</td>\n",
       "      <td>8.693922</td>\n",
       "      <td>0.673991</td>\n",
       "      <td>...</td>\n",
       "      <td>2086.250864</td>\n",
       "      <td>1607.670013</td>\n",
       "      <td>917.237656</td>\n",
       "      <td>915.557664</td>\n",
       "      <td>640.237565</td>\n",
       "      <td>519.352750</td>\n",
       "      <td>418.414959</td>\n",
       "      <td>332.625407</td>\n",
       "      <td>296.605875</td>\n",
       "      <td>318.402798</td>\n",
       "    </tr>\n",
       "    <tr>\n",
       "      <th>std</th>\n",
       "      <td>5.443875</td>\n",
       "      <td>35.026345</td>\n",
       "      <td>1.276733</td>\n",
       "      <td>3.578031</td>\n",
       "      <td>0.459034</td>\n",
       "      <td>124.893946</td>\n",
       "      <td>6.464746</td>\n",
       "      <td>53.460157</td>\n",
       "      <td>37.083264</td>\n",
       "      <td>16.630815</td>\n",
       "      <td>...</td>\n",
       "      <td>1275.619303</td>\n",
       "      <td>1070.795666</td>\n",
       "      <td>449.432854</td>\n",
       "      <td>560.966191</td>\n",
       "      <td>322.336675</td>\n",
       "      <td>292.539840</td>\n",
       "      <td>224.209344</td>\n",
       "      <td>160.086746</td>\n",
       "      <td>176.123726</td>\n",
       "      <td>172.836909</td>\n",
       "    </tr>\n",
       "    <tr>\n",
       "      <th>min</th>\n",
       "      <td>-54.352000</td>\n",
       "      <td>0.000000</td>\n",
       "      <td>0.000000</td>\n",
       "      <td>0.000000</td>\n",
       "      <td>0.000000</td>\n",
       "      <td>0.809340</td>\n",
       "      <td>1.749000</td>\n",
       "      <td>-318.656281</td>\n",
       "      <td>-257.525596</td>\n",
       "      <td>-120.723153</td>\n",
       "      <td>...</td>\n",
       "      <td>91.135450</td>\n",
       "      <td>89.873158</td>\n",
       "      <td>50.263681</td>\n",
       "      <td>30.938177</td>\n",
       "      <td>30.922193</td>\n",
       "      <td>30.063717</td>\n",
       "      <td>22.940235</td>\n",
       "      <td>21.861296</td>\n",
       "      <td>20.006805</td>\n",
       "      <td>21.180689</td>\n",
       "    </tr>\n",
       "    <tr>\n",
       "      <th>25%</th>\n",
       "      <td>-14.082000</td>\n",
       "      <td>97.593750</td>\n",
       "      <td>3.000000</td>\n",
       "      <td>2.000000</td>\n",
       "      <td>0.000000</td>\n",
       "      <td>180.923630</td>\n",
       "      <td>37.804325</td>\n",
       "      <td>-38.164928</td>\n",
       "      <td>-13.297080</td>\n",
       "      <td>-9.371414</td>\n",
       "      <td>...</td>\n",
       "      <td>1234.942691</td>\n",
       "      <td>932.625215</td>\n",
       "      <td>627.098804</td>\n",
       "      <td>539.826667</td>\n",
       "      <td>431.101134</td>\n",
       "      <td>335.118547</td>\n",
       "      <td>280.372758</td>\n",
       "      <td>228.582872</td>\n",
       "      <td>183.211753</td>\n",
       "      <td>220.061351</td>\n",
       "    </tr>\n",
       "    <tr>\n",
       "      <th>50%</th>\n",
       "      <td>-10.491000</td>\n",
       "      <td>120.008000</td>\n",
       "      <td>4.000000</td>\n",
       "      <td>5.000000</td>\n",
       "      <td>1.000000</td>\n",
       "      <td>228.675460</td>\n",
       "      <td>42.188843</td>\n",
       "      <td>-2.521511</td>\n",
       "      <td>10.010756</td>\n",
       "      <td>-0.521686</td>\n",
       "      <td>...</td>\n",
       "      <td>1809.291704</td>\n",
       "      <td>1362.507241</td>\n",
       "      <td>828.176782</td>\n",
       "      <td>786.076527</td>\n",
       "      <td>581.836336</td>\n",
       "      <td>456.921498</td>\n",
       "      <td>371.027720</td>\n",
       "      <td>303.594430</td>\n",
       "      <td>256.649101</td>\n",
       "      <td>287.583772</td>\n",
       "    </tr>\n",
       "    <tr>\n",
       "      <th>75%</th>\n",
       "      <td>-7.584000</td>\n",
       "      <td>142.873000</td>\n",
       "      <td>4.000000</td>\n",
       "      <td>9.000000</td>\n",
       "      <td>1.000000</td>\n",
       "      <td>287.790570</td>\n",
       "      <td>45.824781</td>\n",
       "      <td>28.638475</td>\n",
       "      <td>31.275820</td>\n",
       "      <td>9.248637</td>\n",
       "      <td>...</td>\n",
       "      <td>2610.696799</td>\n",
       "      <td>1968.422690</td>\n",
       "      <td>1100.478252</td>\n",
       "      <td>1137.946415</td>\n",
       "      <td>777.363086</td>\n",
       "      <td>624.078399</td>\n",
       "      <td>497.891767</td>\n",
       "      <td>399.912786</td>\n",
       "      <td>361.603655</td>\n",
       "      <td>373.889954</td>\n",
       "    </tr>\n",
       "    <tr>\n",
       "      <th>max</th>\n",
       "      <td>2.865000</td>\n",
       "      <td>260.547000</td>\n",
       "      <td>7.000000</td>\n",
       "      <td>11.000000</td>\n",
       "      <td>1.000000</td>\n",
       "      <td>2873.808530</td>\n",
       "      <td>58.011152</td>\n",
       "      <td>448.373214</td>\n",
       "      <td>305.121388</td>\n",
       "      <td>197.754968</td>\n",
       "      <td>...</td>\n",
       "      <td>20131.148234</td>\n",
       "      <td>25470.972456</td>\n",
       "      <td>16049.083490</td>\n",
       "      <td>8278.809040</td>\n",
       "      <td>8044.771043</td>\n",
       "      <td>7192.175853</td>\n",
       "      <td>6195.991985</td>\n",
       "      <td>2707.802218</td>\n",
       "      <td>4780.290858</td>\n",
       "      <td>9599.902501</td>\n",
       "    </tr>\n",
       "  </tbody>\n",
       "</table>\n",
       "<p>8 rows × 30 columns</p>\n",
       "</div>"
      ],
      "text/plain": [
       "           loudness         tempo  time_signature           key          mode  \\\n",
       "count  59600.000000  59600.000000    59600.000000  59600.000000  59600.000000   \n",
       "mean     -11.466464    122.644482        3.509027      5.246913      0.698221   \n",
       "std        5.443875     35.026345        1.276733      3.578031      0.459034   \n",
       "min      -54.352000      0.000000        0.000000      0.000000      0.000000   \n",
       "25%      -14.082000     97.593750        3.000000      2.000000      0.000000   \n",
       "50%      -10.491000    120.008000        4.000000      5.000000      1.000000   \n",
       "75%       -7.584000    142.873000        4.000000      9.000000      1.000000   \n",
       "max        2.865000    260.547000        7.000000     11.000000      1.000000   \n",
       "\n",
       "           duration   avg_timbre1   avg_timbre2   avg_timbre3   avg_timbre4  \\\n",
       "count  59600.000000  59600.000000  59600.000000  59600.000000  59600.000000   \n",
       "mean     249.368358     41.271798     -7.839749      8.693922      0.673991   \n",
       "std      124.893946      6.464746     53.460157     37.083264     16.630815   \n",
       "min        0.809340      1.749000   -318.656281   -257.525596   -120.723153   \n",
       "25%      180.923630     37.804325    -38.164928    -13.297080     -9.371414   \n",
       "50%      228.675460     42.188843     -2.521511     10.010756     -0.521686   \n",
       "75%      287.790570     45.824781     28.638475     31.275820      9.248637   \n",
       "max     2873.808530     58.011152    448.373214    305.121388    197.754968   \n",
       "\n",
       "       ...   var_timbre3   var_timbre4   var_timbre5   var_timbre6  \\\n",
       "count  ...  59600.000000  59600.000000  59600.000000  59600.000000   \n",
       "mean   ...   2086.250864   1607.670013    917.237656    915.557664   \n",
       "std    ...   1275.619303   1070.795666    449.432854    560.966191   \n",
       "min    ...     91.135450     89.873158     50.263681     30.938177   \n",
       "25%    ...   1234.942691    932.625215    627.098804    539.826667   \n",
       "50%    ...   1809.291704   1362.507241    828.176782    786.076527   \n",
       "75%    ...   2610.696799   1968.422690   1100.478252   1137.946415   \n",
       "max    ...  20131.148234  25470.972456  16049.083490   8278.809040   \n",
       "\n",
       "        var_timbre7   var_timbre8   var_timbre9  var_timbre10  var_timbre11  \\\n",
       "count  59600.000000  59600.000000  59600.000000  59600.000000  59600.000000   \n",
       "mean     640.237565    519.352750    418.414959    332.625407    296.605875   \n",
       "std      322.336675    292.539840    224.209344    160.086746    176.123726   \n",
       "min       30.922193     30.063717     22.940235     21.861296     20.006805   \n",
       "25%      431.101134    335.118547    280.372758    228.582872    183.211753   \n",
       "50%      581.836336    456.921498    371.027720    303.594430    256.649101   \n",
       "75%      777.363086    624.078399    497.891767    399.912786    361.603655   \n",
       "max     8044.771043   7192.175853   6195.991985   2707.802218   4780.290858   \n",
       "\n",
       "       var_timbre12  \n",
       "count  59600.000000  \n",
       "mean     318.402798  \n",
       "std      172.836909  \n",
       "min       21.180689  \n",
       "25%      220.061351  \n",
       "50%      287.583772  \n",
       "75%      373.889954  \n",
       "max     9599.902501  \n",
       "\n",
       "[8 rows x 30 columns]"
      ]
     },
     "execution_count": 16,
     "metadata": {},
     "output_type": "execute_result"
    }
   ],
   "source": [
    "dataset.describe()"
   ]
  },
  {
   "cell_type": "markdown",
   "metadata": {},
   "source": [
    "##### Se eliminan de las columnas del conjunto de datos que no aportan información relevante o que no permitirían ejecutar el análisis de una forma adecuada"
   ]
  },
  {
   "cell_type": "code",
   "execution_count": 17,
   "metadata": {
    "colab": {},
    "colab_type": "code",
    "id": "DKmARDYE4baX"
   },
   "outputs": [],
   "source": [
    "dataset = dataset.drop(columns = [\"track_id\", \"artist_name\", \"title\"])\n",
    "features = dataset.columns.tolist()"
   ]
  },
  {
   "cell_type": "markdown",
   "metadata": {},
   "source": [
    "##### Se obtienen los datos de las clases con los que se generará el modelo y se generan nuevamente los histogramas. De estos últimos, es posible afirmar que las distribuciones de cada una las caracteristicas de los datos estudiados se mantienen con respecto al conjunto completo."
   ]
  },
  {
   "cell_type": "code",
   "execution_count": 18,
   "metadata": {
    "colab": {
     "base_uri": "https://localhost:8080/",
     "height": 879
    },
    "colab_type": "code",
    "executionInfo": {
     "elapsed": 6549,
     "status": "ok",
     "timestamp": 1582141649664,
     "user": {
      "displayName": "Javier Andres Tellez Ortiz",
      "photoUrl": "https://lh3.googleusercontent.com/a-/AAuE7mCI2mS81Su_mN15W6I_TEgKAwPML39oZE2WDmIW=s64",
      "userId": "12457688987056743232"
     },
     "user_tz": 300
    },
    "id": "ZCqk5BSV4bac",
    "outputId": "5495594a-ab6e-464b-f139-529c600df1b5"
   },
   "outputs": [
    {
     "data": {
      "image/png": "[encoded data removed]",
      "text/plain": [
       "<Figure size 1080x1080 with 30 Axes>"
      ]
     },
     "metadata": {
      "needs_background": "light"
     },
     "output_type": "display_data"
    }
   ],
   "source": [
    "dataset = dataset[(dataset[\"%genre\"] == \"jazz and blues\") | (dataset[\"%genre\"] == \"soul and reggae\")]\n",
    "figure = dataset.hist(figsize=(15,15), bins = 50)"
   ]
  },
  {
   "cell_type": "markdown",
   "metadata": {},
   "source": [
    "##### Se divide la información del archivo entre etiquetas y carácteristicas"
   ]
  },
  {
   "cell_type": "code",
   "execution_count": 19,
   "metadata": {
    "colab": {},
    "colab_type": "code",
    "id": "vdlInbXq61Wt"
   },
   "outputs": [],
   "source": [
    "y = dataset[\"%genre\"].values\n",
    "X = dataset.values[:,1:]"
   ]
  },
  {
   "cell_type": "markdown",
   "metadata": {},
   "source": [
    "##### Con el objetivo de observar el efecto de la estandarización sobre el rendimiento del modelo, se realiza este procedimiento sobre los datos"
   ]
  },
  {
   "cell_type": "code",
   "execution_count": 20,
   "metadata": {
    "colab": {},
    "colab_type": "code",
    "id": "-iSb3yh-AG8w"
   },
   "outputs": [],
   "source": [
    "from sklearn.preprocessing import StandardScaler\n",
    "\n",
    "scaler = StandardScaler()\n",
    "\n",
    "##Se estandarizan los datos provenientes del archivo\n",
    "normalized_X = scaler.fit(X).transform(X)"
   ]
  },
  {
   "cell_type": "markdown",
   "metadata": {},
   "source": [
    "##### Se dividen los datos entre conjunto de entrenamiento y conjunto de prueba, mantiendo el 20% de los datos para este último objetivo. Se observa que para el entrenamiento existe aproximadamente la misma cantidad de datos provenientes de ambas clases. "
   ]
  },
  {
   "cell_type": "code",
   "execution_count": 21,
   "metadata": {
    "colab": {
     "base_uri": "https://localhost:8080/",
     "height": 51
    },
    "colab_type": "code",
    "executionInfo": {
     "elapsed": 516,
     "status": "ok",
     "timestamp": 1582143648474,
     "user": {
      "displayName": "Javier Andres Tellez Ortiz",
      "photoUrl": "https://lh3.googleusercontent.com/a-/AAuE7mCI2mS81Su_mN15W6I_TEgKAwPML39oZE2WDmIW=s64",
      "userId": "12457688987056743232"
     },
     "user_tz": 300
    },
    "id": "1QuQUpm0A0Vf",
    "outputId": "9d0b4c1a-c7d2-46e9-c865-9f8fa3dc756b"
   },
   "outputs": [
    {
     "name": "stdout",
     "output_type": "stream",
     "text": [
      "Datos de entrenamiento clase jazz and blues: 3455\n",
      "Datos de entrenamiento clase soul and reggae: 3225\n"
     ]
    }
   ],
   "source": [
    "from sklearn.model_selection import train_test_split\n",
    "\n",
    "X_train, X_test, y_train, y_test = train_test_split(X, y, test_size = 0.2, random_state = 7861)\n",
    "X_train_std, X_test_std, y_train_std, y_test_std = train_test_split(normalized_X, y, test_size = 0.2, random_state = 7861)\n",
    "\n",
    "genres, cantidad = np.unique(y_train, return_counts = True)\n",
    "print(\"Datos de entrenamiento clase %s: %d\" % (genres[0],cantidad[0]))\n",
    "print(\"Datos de entrenamiento clase %s: %d\" % (genres[1],cantidad[1]))\n"
   ]
  },
  {
   "cell_type": "markdown",
   "metadata": {},
   "source": [
    "##### Se realiza el entrenamiento para cada uno de los subconjuntos de datos y, tanto para los datos sin preprocesar como para los datos estandarizados. Es importante resaltar que para los casos en que los datos no estaban preprocesados, fue necesario aumentar el número de iteraciones máximas con el objetivo de que el algoritmo sea capaz de converger adecuadamente."
   ]
  },
  {
   "cell_type": "code",
   "execution_count": 22,
   "metadata": {
    "colab": {
     "base_uri": "https://localhost:8080/",
     "height": 34
    },
    "colab_type": "code",
    "executionInfo": {
     "elapsed": 17032,
     "status": "ok",
     "timestamp": 1582145953697,
     "user": {
      "displayName": "Javier Andres Tellez Ortiz",
      "photoUrl": "https://lh3.googleusercontent.com/a-/AAuE7mCI2mS81Su_mN15W6I_TEgKAwPML39oZE2WDmIW=s64",
      "userId": "12457688987056743232"
     },
     "user_tz": 300
    },
    "id": "FeIKzkD0HDBH",
    "outputId": "20a946d9-7c13-4497-fbbe-a88eed582364"
   },
   "outputs": [],
   "source": [
    "from sklearn.linear_model import LogisticRegression\n",
    "\n",
    "datos_totales = X_train.shape[0]\n",
    "\n",
    "datos_10 = (int) (datos_totales/10)\n",
    "datos_20 = (int) (datos_totales/5)\n",
    "datos_50 = (int) (datos_totales/2)\n",
    "\n",
    "logRegression_10 = LogisticRegression(max_iter = 4800).fit( X_train[0: datos_10], y_train[0: datos_10])\n",
    "logRegression_10_std = LogisticRegression().fit( X_train_std[0: datos_10], y_train_std[0: datos_10])\n",
    "\n",
    "logRegression_20 = LogisticRegression(max_iter = 8000).fit( X_train[0: datos_20], y_train[0: datos_20])\n",
    "logRegression_20_std = LogisticRegression().fit( X_train_std[0: datos_20], y_train_std[0: datos_20])\n",
    "\n",
    "logRegression_50 = LogisticRegression(max_iter = 10000).fit( X_train[0: datos_50], y_train[0: datos_50])\n",
    "logRegression_50_std = LogisticRegression().fit( X_train_std[0: datos_50], y_train_std[0: datos_50])\n",
    "\n",
    "logRegression = LogisticRegression(max_iter = 10000).fit( X_train, y_train)\n",
    "logRegression_std = LogisticRegression().fit( X_train_std, y_train_std )\n"
   ]
  },
  {
   "cell_type": "markdown",
   "metadata": {},
   "source": [
    "##### Se evalúan cada uno de los modelos entrenados y se reportan los resultados en la tabla mostrada. Es posible afirmar a partir de dichos resultados que la estandarización de los datos permitió una convergencia más rápida, pero no se evidencia un aumento significativo en el desempeño del modelo."
   ]
  },
  {
   "cell_type": "code",
   "execution_count": 23,
   "metadata": {
    "colab": {
     "base_uri": "https://localhost:8080/",
     "height": 297
    },
    "colab_type": "code",
    "executionInfo": {
     "elapsed": 1167,
     "status": "ok",
     "timestamp": 1582148624845,
     "user": {
      "displayName": "Javier Andres Tellez Ortiz",
      "photoUrl": "https://lh3.googleusercontent.com/a-/AAuE7mCI2mS81Su_mN15W6I_TEgKAwPML39oZE2WDmIW=s64",
      "userId": "12457688987056743232"
     },
     "user_tz": 300
    },
    "id": "YMBIIoncKNKF",
    "outputId": "4ca50da8-76a4-4a69-8e98-e92a51ee5a00"
   },
   "outputs": [
    {
     "data": {
      "text/html": [
       "<div>\n",
       "<style scoped>\n",
       "    .dataframe tbody tr th:only-of-type {\n",
       "        vertical-align: middle;\n",
       "    }\n",
       "\n",
       "    .dataframe tbody tr th {\n",
       "        vertical-align: top;\n",
       "    }\n",
       "\n",
       "    .dataframe thead th {\n",
       "        text-align: right;\n",
       "    }\n",
       "</style>\n",
       "<table border=\"1\" class=\"dataframe\">\n",
       "  <thead>\n",
       "    <tr style=\"text-align: right;\">\n",
       "      <th></th>\n",
       "      <th>Porcentaje de datos</th>\n",
       "      <th>Precisión</th>\n",
       "      <th>Recall</th>\n",
       "      <th>F1</th>\n",
       "      <th>Log loss</th>\n",
       "    </tr>\n",
       "  </thead>\n",
       "  <tbody>\n",
       "    <tr>\n",
       "      <th>0</th>\n",
       "      <td>10%</td>\n",
       "      <td>0.834292</td>\n",
       "      <td>0.824801</td>\n",
       "      <td>0.829519</td>\n",
       "      <td>0.433531</td>\n",
       "    </tr>\n",
       "    <tr>\n",
       "      <th>1</th>\n",
       "      <td>20%</td>\n",
       "      <td>0.836994</td>\n",
       "      <td>0.823663</td>\n",
       "      <td>0.830275</td>\n",
       "      <td>0.422269</td>\n",
       "    </tr>\n",
       "    <tr>\n",
       "      <th>2</th>\n",
       "      <td>50%</td>\n",
       "      <td>0.843641</td>\n",
       "      <td>0.822526</td>\n",
       "      <td>0.832949</td>\n",
       "      <td>0.397687</td>\n",
       "    </tr>\n",
       "    <tr>\n",
       "      <th>3</th>\n",
       "      <td>100%</td>\n",
       "      <td>0.842410</td>\n",
       "      <td>0.827076</td>\n",
       "      <td>0.834673</td>\n",
       "      <td>0.390418</td>\n",
       "    </tr>\n",
       "    <tr>\n",
       "      <th>4</th>\n",
       "      <td>10%(std)</td>\n",
       "      <td>0.836028</td>\n",
       "      <td>0.823663</td>\n",
       "      <td>0.829799</td>\n",
       "      <td>0.427644</td>\n",
       "    </tr>\n",
       "    <tr>\n",
       "      <th>5</th>\n",
       "      <td>20%(std)</td>\n",
       "      <td>0.841307</td>\n",
       "      <td>0.820250</td>\n",
       "      <td>0.830645</td>\n",
       "      <td>0.419614</td>\n",
       "    </tr>\n",
       "    <tr>\n",
       "      <th>6</th>\n",
       "      <td>50%(std)</td>\n",
       "      <td>0.843823</td>\n",
       "      <td>0.823663</td>\n",
       "      <td>0.833621</td>\n",
       "      <td>0.397824</td>\n",
       "    </tr>\n",
       "    <tr>\n",
       "      <th>7</th>\n",
       "      <td>100%(std)</td>\n",
       "      <td>0.845444</td>\n",
       "      <td>0.833902</td>\n",
       "      <td>0.839633</td>\n",
       "      <td>0.390670</td>\n",
       "    </tr>\n",
       "  </tbody>\n",
       "</table>\n",
       "</div>"
      ],
      "text/plain": [
       "  Porcentaje de datos  Precisión    Recall        F1  Log loss\n",
       "0                 10%   0.834292  0.824801  0.829519  0.433531\n",
       "1                 20%   0.836994  0.823663  0.830275  0.422269\n",
       "2                 50%   0.843641  0.822526  0.832949  0.397687\n",
       "3                100%   0.842410  0.827076  0.834673  0.390418\n",
       "4            10%(std)   0.836028  0.823663  0.829799  0.427644\n",
       "5            20%(std)   0.841307  0.820250  0.830645  0.419614\n",
       "6            50%(std)   0.843823  0.823663  0.833621  0.397824\n",
       "7           100%(std)   0.845444  0.833902  0.839633  0.390670"
      ]
     },
     "execution_count": 23,
     "metadata": {},
     "output_type": "execute_result"
    }
   ],
   "source": [
    "from sklearn.metrics import f1_score, precision_score, recall_score, confusion_matrix, log_loss\n",
    "\n",
    "f1_score_list = []\n",
    "precision_list = []\n",
    "recall_list = []\n",
    "log_loss_list = []\n",
    "\n",
    "models = [logRegression_10, logRegression_20, logRegression_50, logRegression,\n",
    "          logRegression_10_std, logRegression_20_std, logRegression_50_std, logRegression_std]\n",
    "\n",
    "test_data = [X_test, X_test, X_test,  X_test, X_test_std, X_test_std, X_test_std, X_test_std]\n",
    "test_target = [y_test, y_test, y_test, y_test, y_test_std, y_test_std, y_test_std, y_test_std]\n",
    "\n",
    "for model,data,target in zip(models, test_data, test_target):\n",
    "\n",
    "    y_hat = model.predict(data)\n",
    "    f1_score_list.append(f1_score(target, y_hat, pos_label = \"jazz and blues\"))\n",
    "    precision_list.append(precision_score(target, y_hat, pos_label = \"jazz and blues\"))\n",
    "    recall_list.append(recall_score(target, y_hat, pos_label = \"jazz and blues\"))\n",
    "\n",
    "    y_hat = model.predict_proba(data)\n",
    "    log_loss_list.append(log_loss(target, y_hat))\n",
    "    \n",
    "model_results = pd.DataFrame({\n",
    "    \"Porcentaje de datos\" : [\"10%\", \"20%\", \"50%\", \"100%\", \n",
    "                             \"10%(std)\", \"20%(std)\", \"50%(std)\", \"100%(std)\"],    \n",
    "    \"Precisión\" : precision_list,\n",
    "    \"Recall\" : recall_list,\n",
    "    \"F1\" : f1_score_list,\n",
    "    \"Log loss\" : log_loss_list   \n",
    "})\n",
    "\n",
    "model_results"
   ]
  },
  {
   "cell_type": "markdown",
   "metadata": {},
   "source": [
    "#### Se generan las matrices de confusión para los modelos entrenados con la totalidad de los datos. Pese a que el modelo con datos estandarizados tiene una menor cantidad de falsos positivos y falsos negativos, no es posible afirmar que el modelo resultante clasifica adecuadamente los datos."
   ]
  },
  {
   "cell_type": "code",
   "execution_count": 27,
   "metadata": {
    "colab": {
     "base_uri": "https://localhost:8080/",
     "height": 51
    },
    "colab_type": "code",
    "executionInfo": {
     "elapsed": 411,
     "status": "ok",
     "timestamp": 1582148716546,
     "user": {
      "displayName": "Javier Andres Tellez Ortiz",
      "photoUrl": "https://lh3.googleusercontent.com/a-/AAuE7mCI2mS81Su_mN15W6I_TEgKAwPML39oZE2WDmIW=s64",
      "userId": "12457688987056743232"
     },
     "user_tz": 300
    },
    "id": "v5yddpLpP_x6",
    "outputId": "b348fecd-c446-4167-e5d5-f9f621690fd3"
   },
   "outputs": [
    {
     "data": {
      "text/plain": [
       "array([[727, 152],\n",
       "       [136, 655]], dtype=int64)"
      ]
     },
     "execution_count": 27,
     "metadata": {},
     "output_type": "execute_result"
    }
   ],
   "source": [
    "confusion_matrix(y_test, logRegression.predict(X_test))"
   ]
  },
  {
   "cell_type": "code",
   "execution_count": 28,
   "metadata": {
    "colab": {
     "base_uri": "https://localhost:8080/",
     "height": 51
    },
    "colab_type": "code",
    "executionInfo": {
     "elapsed": 441,
     "status": "ok",
     "timestamp": 1582148747407,
     "user": {
      "displayName": "Javier Andres Tellez Ortiz",
      "photoUrl": "https://lh3.googleusercontent.com/a-/AAuE7mCI2mS81Su_mN15W6I_TEgKAwPML39oZE2WDmIW=s64",
      "userId": "12457688987056743232"
     },
     "user_tz": 300
    },
    "id": "d7qI1L1caYW7",
    "outputId": "a8d24d63-6d8b-479b-f32d-7c2f3737e0c6"
   },
   "outputs": [
    {
     "data": {
      "text/plain": [
       "array([[733, 146],\n",
       "       [134, 657]], dtype=int64)"
      ]
     },
     "execution_count": 28,
     "metadata": {},
     "output_type": "execute_result"
    }
   ],
   "source": [
    "confusion_matrix(y_test_std, logRegression_std.predict(X_test_std))"
   ]
  },
  {
   "cell_type": "markdown",
   "metadata": {},
   "source": [
    "## Conclusiones\n",
    "- Es posible afirmar que el modelo obtenido no generaliza adecuadamente la relación entre las varibles de los datos estudiados. Por lo que se hace necesaria la implementación de un modelo de mayor complejidad que capture adecuadamente las relaciones entre variables.\n",
    "- Para los casos estudiados, las estandarización de los datos no generó un impacto significativo en el rendimiento de los modelos. Sin embargo, en la fase de entrenamiento, este procedimiento permitió una convergencia más rápida del algoritmo de optimización.\n",
    "- En caso de incluir en las características el nombre del artista es muy probable que mejoren las estimaciones del modelo. Por otro lado, si se desearía incluir el título de la canción, sería necesario incluir un análisis más profundo que incluya un modelamiento semántico de éste. "
   ]
  },
  {
   "cell_type": "code",
   "execution_count": null,
   "metadata": {},
   "outputs": [],
   "source": []
  }
 ],
 "metadata": {
  "colab": {
   "collapsed_sections": [],
   "name": "Reto 1.ipynb",
   "provenance": []
  },
  "kernelspec": {
   "display_name": "Python 3",
   "language": "python",
   "name": "python3"
  },
  "language_info": {
   "codemirror_mode": {
    "name": "ipython",
    "version": 3
   },
   "file_extension": ".py",
   "mimetype": "text/x-python",
   "name": "python",
   "nbconvert_exporter": "python",
   "pygments_lexer": "ipython3",
   "version": "3.7.6"
  }
 },
 "nbformat": 4,
 "nbformat_minor": 1
}
