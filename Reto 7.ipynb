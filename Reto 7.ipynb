{
 "cells": [
  {
   "cell_type": "markdown",
   "metadata": {},
   "source": [
    "# Clasificación de canciones con máquinas de soporte vectorial\n",
    "## Javier Andres Tellez Ortiz 201617861"
   ]
  },
  {
   "cell_type": "markdown",
   "metadata": {},
   "source": [
    "### Se descarga el conjunto de datos y se descomprime"
   ]
  },
  {
   "cell_type": "code",
   "execution_count": 1,
   "metadata": {},
   "outputs": [
    {
     "name": "stdout",
     "output_type": "stream",
     "text": [
      "100% [........................................................................] 12656044 / 12656044"
     ]
    }
   ],
   "source": [
    "import wget\n",
    "from zipfile import ZipFile\n",
    "\n",
    "##Se descarga el archivo del repositorio \n",
    "file = wget.download(\"http://millionsongdataset.com/sites/default/files/AdditionalFiles/msd_genre_dataset.zip\")\n",
    "\n",
    "##Se abre el archivo y se descomprime\n",
    "zpFile = ZipFile(file)\n",
    "zpFile.extractall()\n",
    "zpFile.close()"
   ]
  },
  {
   "cell_type": "code",
   "execution_count": 2,
   "metadata": {},
   "outputs": [
    {
     "data": {
      "text/html": [
       "<div>\n",
       "<style scoped>\n",
       "    .dataframe tbody tr th:only-of-type {\n",
       "        vertical-align: middle;\n",
       "    }\n",
       "\n",
       "    .dataframe tbody tr th {\n",
       "        vertical-align: top;\n",
       "    }\n",
       "\n",
       "    .dataframe thead th {\n",
       "        text-align: right;\n",
       "    }\n",
       "</style>\n",
       "<table border=\"1\" class=\"dataframe\">\n",
       "  <thead>\n",
       "    <tr style=\"text-align: right;\">\n",
       "      <th></th>\n",
       "      <th>%genre</th>\n",
       "      <th>track_id</th>\n",
       "      <th>artist_name</th>\n",
       "      <th>title</th>\n",
       "      <th>loudness</th>\n",
       "      <th>tempo</th>\n",
       "      <th>time_signature</th>\n",
       "      <th>key</th>\n",
       "      <th>mode</th>\n",
       "      <th>duration</th>\n",
       "      <th>...</th>\n",
       "      <th>var_timbre3</th>\n",
       "      <th>var_timbre4</th>\n",
       "      <th>var_timbre5</th>\n",
       "      <th>var_timbre6</th>\n",
       "      <th>var_timbre7</th>\n",
       "      <th>var_timbre8</th>\n",
       "      <th>var_timbre9</th>\n",
       "      <th>var_timbre10</th>\n",
       "      <th>var_timbre11</th>\n",
       "      <th>var_timbre12</th>\n",
       "    </tr>\n",
       "  </thead>\n",
       "  <tbody>\n",
       "    <tr>\n",
       "      <th>0</th>\n",
       "      <td>classic pop and rock</td>\n",
       "      <td>TRFCOOU128F427AEC0</td>\n",
       "      <td>Blue Oyster Cult</td>\n",
       "      <td>Mes Dames Sarat</td>\n",
       "      <td>-8.697</td>\n",
       "      <td>155.007</td>\n",
       "      <td>1</td>\n",
       "      <td>9</td>\n",
       "      <td>1</td>\n",
       "      <td>246.33424</td>\n",
       "      <td>...</td>\n",
       "      <td>1255.514569</td>\n",
       "      <td>580.030472</td>\n",
       "      <td>598.485223</td>\n",
       "      <td>575.337671</td>\n",
       "      <td>322.068603</td>\n",
       "      <td>321.726029</td>\n",
       "      <td>232.700609</td>\n",
       "      <td>186.805303</td>\n",
       "      <td>181.938688</td>\n",
       "      <td>151.508011</td>\n",
       "    </tr>\n",
       "    <tr>\n",
       "      <th>1</th>\n",
       "      <td>classic pop and rock</td>\n",
       "      <td>TRNJTPB128F427AE9F</td>\n",
       "      <td>Blue Oyster Cult</td>\n",
       "      <td>Screams</td>\n",
       "      <td>-10.659</td>\n",
       "      <td>148.462</td>\n",
       "      <td>1</td>\n",
       "      <td>4</td>\n",
       "      <td>0</td>\n",
       "      <td>189.80526</td>\n",
       "      <td>...</td>\n",
       "      <td>2007.653070</td>\n",
       "      <td>1043.474073</td>\n",
       "      <td>585.694981</td>\n",
       "      <td>564.013736</td>\n",
       "      <td>510.177022</td>\n",
       "      <td>400.200186</td>\n",
       "      <td>365.119588</td>\n",
       "      <td>238.099708</td>\n",
       "      <td>197.933757</td>\n",
       "      <td>251.577525</td>\n",
       "    </tr>\n",
       "    <tr>\n",
       "      <th>2</th>\n",
       "      <td>classic pop and rock</td>\n",
       "      <td>TRLFJHA128F427AEEA</td>\n",
       "      <td>Blue Oyster Cult</td>\n",
       "      <td>Dance The Night Away</td>\n",
       "      <td>-13.494</td>\n",
       "      <td>112.909</td>\n",
       "      <td>1</td>\n",
       "      <td>10</td>\n",
       "      <td>0</td>\n",
       "      <td>158.19710</td>\n",
       "      <td>...</td>\n",
       "      <td>1204.856777</td>\n",
       "      <td>2736.520024</td>\n",
       "      <td>730.233239</td>\n",
       "      <td>665.203452</td>\n",
       "      <td>535.775111</td>\n",
       "      <td>439.335059</td>\n",
       "      <td>486.822970</td>\n",
       "      <td>265.333860</td>\n",
       "      <td>447.097987</td>\n",
       "      <td>251.880724</td>\n",
       "    </tr>\n",
       "    <tr>\n",
       "      <th>3</th>\n",
       "      <td>classic pop and rock</td>\n",
       "      <td>TRCQZAG128F427DB97</td>\n",
       "      <td>Blue Oyster Cult</td>\n",
       "      <td>Debbie Denise</td>\n",
       "      <td>-12.786</td>\n",
       "      <td>117.429</td>\n",
       "      <td>4</td>\n",
       "      <td>7</td>\n",
       "      <td>1</td>\n",
       "      <td>250.22649</td>\n",
       "      <td>...</td>\n",
       "      <td>809.755802</td>\n",
       "      <td>563.908070</td>\n",
       "      <td>492.803819</td>\n",
       "      <td>378.382799</td>\n",
       "      <td>372.875044</td>\n",
       "      <td>231.941957</td>\n",
       "      <td>246.313305</td>\n",
       "      <td>168.400152</td>\n",
       "      <td>85.282462</td>\n",
       "      <td>339.897173</td>\n",
       "    </tr>\n",
       "    <tr>\n",
       "      <th>4</th>\n",
       "      <td>classic pop and rock</td>\n",
       "      <td>TRNXMNM128F427DB8C</td>\n",
       "      <td>Blue Oyster Cult</td>\n",
       "      <td>(Don't Fear) The Reaper</td>\n",
       "      <td>-14.093</td>\n",
       "      <td>141.536</td>\n",
       "      <td>4</td>\n",
       "      <td>9</td>\n",
       "      <td>0</td>\n",
       "      <td>307.06893</td>\n",
       "      <td>...</td>\n",
       "      <td>1093.684935</td>\n",
       "      <td>343.556047</td>\n",
       "      <td>889.163314</td>\n",
       "      <td>218.111796</td>\n",
       "      <td>304.862864</td>\n",
       "      <td>178.352161</td>\n",
       "      <td>440.478867</td>\n",
       "      <td>142.669283</td>\n",
       "      <td>81.061326</td>\n",
       "      <td>208.355152</td>\n",
       "    </tr>\n",
       "  </tbody>\n",
       "</table>\n",
       "<p>5 rows × 34 columns</p>\n",
       "</div>"
      ],
      "text/plain": [
       "                 %genre            track_id       artist_name  \\\n",
       "0  classic pop and rock  TRFCOOU128F427AEC0  Blue Oyster Cult   \n",
       "1  classic pop and rock  TRNJTPB128F427AE9F  Blue Oyster Cult   \n",
       "2  classic pop and rock  TRLFJHA128F427AEEA  Blue Oyster Cult   \n",
       "3  classic pop and rock  TRCQZAG128F427DB97  Blue Oyster Cult   \n",
       "4  classic pop and rock  TRNXMNM128F427DB8C  Blue Oyster Cult   \n",
       "\n",
       "                     title  loudness    tempo  time_signature  key  mode  \\\n",
       "0          Mes Dames Sarat    -8.697  155.007               1    9     1   \n",
       "1                  Screams   -10.659  148.462               1    4     0   \n",
       "2     Dance The Night Away   -13.494  112.909               1   10     0   \n",
       "3            Debbie Denise   -12.786  117.429               4    7     1   \n",
       "4  (Don't Fear) The Reaper   -14.093  141.536               4    9     0   \n",
       "\n",
       "    duration  ...  var_timbre3  var_timbre4  var_timbre5  var_timbre6  \\\n",
       "0  246.33424  ...  1255.514569   580.030472   598.485223   575.337671   \n",
       "1  189.80526  ...  2007.653070  1043.474073   585.694981   564.013736   \n",
       "2  158.19710  ...  1204.856777  2736.520024   730.233239   665.203452   \n",
       "3  250.22649  ...   809.755802   563.908070   492.803819   378.382799   \n",
       "4  307.06893  ...  1093.684935   343.556047   889.163314   218.111796   \n",
       "\n",
       "   var_timbre7  var_timbre8  var_timbre9  var_timbre10  var_timbre11  \\\n",
       "0   322.068603   321.726029   232.700609    186.805303    181.938688   \n",
       "1   510.177022   400.200186   365.119588    238.099708    197.933757   \n",
       "2   535.775111   439.335059   486.822970    265.333860    447.097987   \n",
       "3   372.875044   231.941957   246.313305    168.400152     85.282462   \n",
       "4   304.862864   178.352161   440.478867    142.669283     81.061326   \n",
       "\n",
       "   var_timbre12  \n",
       "0    151.508011  \n",
       "1    251.577525  \n",
       "2    251.880724  \n",
       "3    339.897173  \n",
       "4    208.355152  \n",
       "\n",
       "[5 rows x 34 columns]"
      ]
     },
     "execution_count": 2,
     "metadata": {},
     "output_type": "execute_result"
    }
   ],
   "source": [
    "import pandas as pd\n",
    "import numpy as np\n",
    "\n",
    "dataset = pd.read_csv(\"msd_genre_dataset.txt\", skiprows = range(9))\n",
    "\n",
    "dataset.dropna()\n",
    "dataset.head()"
   ]
  },
  {
   "cell_type": "code",
   "execution_count": 3,
   "metadata": {},
   "outputs": [],
   "source": [
    "dataset = dataset.drop(columns = [\"track_id\", \"artist_name\", \"title\"])\n",
    "features = dataset.columns.tolist()\n",
    "dataset = dataset[(dataset[\"%genre\"] == \"jazz and blues\") | (dataset[\"%genre\"] == \"soul and reggae\")]"
   ]
  },
  {
   "cell_type": "markdown",
   "metadata": {},
   "source": [
    "### Se obtienen los datos de los géneros de interés y se muestra la cantidad de cada clase"
   ]
  },
  {
   "cell_type": "code",
   "execution_count": 4,
   "metadata": {},
   "outputs": [
    {
     "data": {
      "text/html": [
       "<div>\n",
       "<style scoped>\n",
       "    .dataframe tbody tr th:only-of-type {\n",
       "        vertical-align: middle;\n",
       "    }\n",
       "\n",
       "    .dataframe tbody tr th {\n",
       "        vertical-align: top;\n",
       "    }\n",
       "\n",
       "    .dataframe thead th {\n",
       "        text-align: right;\n",
       "    }\n",
       "</style>\n",
       "<table border=\"1\" class=\"dataframe\">\n",
       "  <thead>\n",
       "    <tr style=\"text-align: right;\">\n",
       "      <th></th>\n",
       "      <th>%genre</th>\n",
       "    </tr>\n",
       "  </thead>\n",
       "  <tbody>\n",
       "    <tr>\n",
       "      <th>jazz and blues</th>\n",
       "      <td>4334</td>\n",
       "    </tr>\n",
       "    <tr>\n",
       "      <th>soul and reggae</th>\n",
       "      <td>4016</td>\n",
       "    </tr>\n",
       "  </tbody>\n",
       "</table>\n",
       "</div>"
      ],
      "text/plain": [
       "                 %genre\n",
       "jazz and blues     4334\n",
       "soul and reggae    4016"
      ]
     },
     "execution_count": 4,
     "metadata": {},
     "output_type": "execute_result"
    }
   ],
   "source": [
    "pd.DataFrame(dataset[\"%genre\"].value_counts())"
   ]
  },
  {
   "cell_type": "markdown",
   "metadata": {},
   "source": [
    "### Se divide la información del archivo entre etiquetas y carácteristicas"
   ]
  },
  {
   "cell_type": "code",
   "execution_count": 5,
   "metadata": {},
   "outputs": [],
   "source": [
    "y = dataset[\"%genre\"].values\n",
    "X = dataset.values[:,1:]"
   ]
  },
  {
   "cell_type": "markdown",
   "metadata": {},
   "source": [
    "### Como se evidenció en entregas anteriores, es necesaria la estándarizacion de los datos. Además se tranforman las etiquetas de cada calse en números"
   ]
  },
  {
   "cell_type": "code",
   "execution_count": 6,
   "metadata": {},
   "outputs": [],
   "source": [
    "from sklearn.preprocessing import StandardScaler, LabelEncoder\n",
    "\n",
    "scaler = StandardScaler()\n",
    "lblEncoder = LabelEncoder()\n",
    "\n",
    "y = lblEncoder.fit(np.unique(y)).transform(y)\n",
    "##Se estandarizan los datos provenientes del archivo\n",
    "X = scaler.fit(X).transform(X)"
   ]
  },
  {
   "cell_type": "markdown",
   "metadata": {},
   "source": [
    "### Se dividen los datos en datos de entrenamiento y datos de prueba, tomando el 20% del total para este último fin. Antes de realizar la división, los datos son barajados"
   ]
  },
  {
   "cell_type": "code",
   "execution_count": 7,
   "metadata": {},
   "outputs": [
    {
     "name": "stdout",
     "output_type": "stream",
     "text": [
      "Datos de prueba clase 0 (jazz and blues): 879\n",
      "Datos de prueba clase 1 (soul and reggae): 791\n",
      "Total datos prueba: 1670\n"
     ]
    }
   ],
   "source": [
    "from sklearn.model_selection import train_test_split\n",
    "\n",
    "X, X_test, y, y_test = train_test_split(X, y, test_size = 0.2, random_state = 7861)\n",
    "\n",
    "genres, cantidad = np.unique(y_test, return_counts = True)\n",
    "total_test_data = sum(cantidad)\n",
    "labels = lblEncoder.inverse_transform(genres)\n",
    "print(\"Datos de prueba clase %s (%s): %d\" % (genres[0],labels[0],cantidad[0]))\n",
    "print(\"Datos de prueba clase %s (%s): %d\" % (genres[1],labels[1],cantidad[1]))\n",
    "print(\"Total datos prueba: %d\" % total_test_data)"
   ]
  },
  {
   "cell_type": "markdown",
   "metadata": {},
   "source": [
    "### Se toma el 10% de los datos de entrenamiento como datos de validación, esto con el objetivo de comparar cada uno de los modelos que serán entrenados"
   ]
  },
  {
   "cell_type": "code",
   "execution_count": 8,
   "metadata": {},
   "outputs": [
    {
     "name": "stdout",
     "output_type": "stream",
     "text": [
      "Datos de entrenamiento clase 0 (jazz and blues): 3123\n",
      "Datos de entrenamiento clase 1 (soul and reggae): 2889\n",
      "Datos de validacion clase 0 (jazz and blues): 332\n",
      "Datos de validacion clase 1 (soul and reggae): 336\n"
     ]
    }
   ],
   "source": [
    "X_train, X_validation, y_train, y_validation = train_test_split(X, y, test_size = 0.1, random_state = 7861)\n",
    "\n",
    "genres, cantidad = np.unique(y_train, return_counts = True)\n",
    "labels = lblEncoder.inverse_transform(genres)\n",
    "print(\"Datos de entrenamiento clase %s (%s): %d\" % (genres[0],labels[0],cantidad[0]))\n",
    "print(\"Datos de entrenamiento clase %s (%s): %d\" % (genres[1],labels[1],cantidad[1]))\n",
    "\n",
    "genres, cantidad = np.unique(y_validation, return_counts = True)\n",
    "labels = lblEncoder.inverse_transform(genres)\n",
    "print(\"Datos de validacion clase %s (%s): %d\" % (genres[0],labels[0],cantidad[0]))\n",
    "print(\"Datos de validacion clase %s (%s): %d\" % (genres[1],labels[1],cantidad[1]))"
   ]
  },
  {
   "cell_type": "markdown",
   "metadata": {},
   "source": [
    "### Se define le grado máximo del polinomio a usar en la máquina de soporte vectorial y algunos valores para la constante C"
   ]
  },
  {
   "cell_type": "code",
   "execution_count": 9,
   "metadata": {},
   "outputs": [],
   "source": [
    "max_degree = 9\n",
    "C = [0.001, 0.003, 0.01, 0.03, 0.1, 0.3, 1, 3, 10, 30, 100]\n",
    "poly_degree = range(max_degree)"
   ]
  },
  {
   "cell_type": "markdown",
   "metadata": {},
   "source": [
    "### Para cada grado de polinomio considerado, se entrena un SVM con las distintas constantes C escogidas. Se evalúa cada modelo en los datos de validación y se almacenan la exactitud obtenida en una matriz para su posterior análisis"
   ]
  },
  {
   "cell_type": "code",
   "execution_count": 10,
   "metadata": {},
   "outputs": [],
   "source": [
    "from sklearn.svm import SVC\n",
    "\n",
    "score_matrix = np.zeros((max_degree, len(C)))\n",
    "i = 0\n",
    "j = 0\n",
    "\n",
    "for degree in poly_degree:\n",
    "    for regularization in C:\n",
    "        \n",
    "        machine = SVC(C=regularization, \n",
    "                      kernel='poly',\n",
    "                      degree=degree)\n",
    "        \n",
    "        machine.fit(X_train, y_train)\n",
    "        score = machine.score(X_validation, y_validation)\n",
    "        score_matrix[i,j] = score\n",
    "        j += 1\n",
    "    \n",
    "    j = 0\n",
    "    i += 1"
   ]
  },
  {
   "cell_type": "markdown",
   "metadata": {},
   "source": [
    "### Se genera una tabla para observar los resultados alcanzados y obtener los parámetros para el mejor modelo "
   ]
  },
  {
   "cell_type": "code",
   "execution_count": 11,
   "metadata": {},
   "outputs": [
    {
     "data": {
      "text/html": [
       "<div>\n",
       "<style scoped>\n",
       "    .dataframe tbody tr th:only-of-type {\n",
       "        vertical-align: middle;\n",
       "    }\n",
       "\n",
       "    .dataframe tbody tr th {\n",
       "        vertical-align: top;\n",
       "    }\n",
       "\n",
       "    .dataframe thead th {\n",
       "        text-align: right;\n",
       "    }\n",
       "</style>\n",
       "<table border=\"1\" class=\"dataframe\">\n",
       "  <thead>\n",
       "    <tr style=\"text-align: right;\">\n",
       "      <th></th>\n",
       "      <th>0.001</th>\n",
       "      <th>0.003</th>\n",
       "      <th>0.010</th>\n",
       "      <th>0.030</th>\n",
       "      <th>0.100</th>\n",
       "      <th>0.300</th>\n",
       "      <th>1.000</th>\n",
       "      <th>3.000</th>\n",
       "      <th>10.000</th>\n",
       "      <th>30.000</th>\n",
       "      <th>100.000</th>\n",
       "    </tr>\n",
       "    <tr>\n",
       "      <th>Degree \\ C</th>\n",
       "      <th></th>\n",
       "      <th></th>\n",
       "      <th></th>\n",
       "      <th></th>\n",
       "      <th></th>\n",
       "      <th></th>\n",
       "      <th></th>\n",
       "      <th></th>\n",
       "      <th></th>\n",
       "      <th></th>\n",
       "      <th></th>\n",
       "    </tr>\n",
       "  </thead>\n",
       "  <tbody>\n",
       "    <tr>\n",
       "      <th>0</th>\n",
       "      <td>0.497006</td>\n",
       "      <td>0.497006</td>\n",
       "      <td>0.497006</td>\n",
       "      <td>0.497006</td>\n",
       "      <td>0.497006</td>\n",
       "      <td>0.497006</td>\n",
       "      <td>0.497006</td>\n",
       "      <td>0.497006</td>\n",
       "      <td>0.497006</td>\n",
       "      <td>0.497006</td>\n",
       "      <td>0.497006</td>\n",
       "    </tr>\n",
       "    <tr>\n",
       "      <th>1</th>\n",
       "      <td>0.751497</td>\n",
       "      <td>0.814371</td>\n",
       "      <td>0.818862</td>\n",
       "      <td>0.824850</td>\n",
       "      <td>0.838323</td>\n",
       "      <td>0.841317</td>\n",
       "      <td>0.841317</td>\n",
       "      <td>0.841317</td>\n",
       "      <td>0.841317</td>\n",
       "      <td>0.841317</td>\n",
       "      <td>0.841317</td>\n",
       "    </tr>\n",
       "    <tr>\n",
       "      <th>2</th>\n",
       "      <td>0.497006</td>\n",
       "      <td>0.508982</td>\n",
       "      <td>0.619760</td>\n",
       "      <td>0.706587</td>\n",
       "      <td>0.739521</td>\n",
       "      <td>0.758982</td>\n",
       "      <td>0.769461</td>\n",
       "      <td>0.778443</td>\n",
       "      <td>0.781437</td>\n",
       "      <td>0.778443</td>\n",
       "      <td>0.785928</td>\n",
       "    </tr>\n",
       "    <tr>\n",
       "      <th>3</th>\n",
       "      <td>0.508982</td>\n",
       "      <td>0.556886</td>\n",
       "      <td>0.770958</td>\n",
       "      <td>0.833832</td>\n",
       "      <td>0.845808</td>\n",
       "      <td>0.845808</td>\n",
       "      <td>0.856287</td>\n",
       "      <td>0.865269</td>\n",
       "      <td>0.856287</td>\n",
       "      <td>0.850299</td>\n",
       "      <td>0.850299</td>\n",
       "    </tr>\n",
       "    <tr>\n",
       "      <th>4</th>\n",
       "      <td>0.508982</td>\n",
       "      <td>0.517964</td>\n",
       "      <td>0.540419</td>\n",
       "      <td>0.723054</td>\n",
       "      <td>0.705090</td>\n",
       "      <td>0.714072</td>\n",
       "      <td>0.760479</td>\n",
       "      <td>0.773952</td>\n",
       "      <td>0.797904</td>\n",
       "      <td>0.799401</td>\n",
       "      <td>0.776946</td>\n",
       "    </tr>\n",
       "    <tr>\n",
       "      <th>5</th>\n",
       "      <td>0.508982</td>\n",
       "      <td>0.523952</td>\n",
       "      <td>0.576347</td>\n",
       "      <td>0.747006</td>\n",
       "      <td>0.826347</td>\n",
       "      <td>0.827844</td>\n",
       "      <td>0.835329</td>\n",
       "      <td>0.856287</td>\n",
       "      <td>0.857784</td>\n",
       "      <td>0.853293</td>\n",
       "      <td>0.851796</td>\n",
       "    </tr>\n",
       "    <tr>\n",
       "      <th>6</th>\n",
       "      <td>0.510479</td>\n",
       "      <td>0.520958</td>\n",
       "      <td>0.537425</td>\n",
       "      <td>0.616766</td>\n",
       "      <td>0.666168</td>\n",
       "      <td>0.678144</td>\n",
       "      <td>0.699102</td>\n",
       "      <td>0.718563</td>\n",
       "      <td>0.733533</td>\n",
       "      <td>0.758982</td>\n",
       "      <td>0.770958</td>\n",
       "    </tr>\n",
       "    <tr>\n",
       "      <th>7</th>\n",
       "      <td>0.508982</td>\n",
       "      <td>0.525449</td>\n",
       "      <td>0.544910</td>\n",
       "      <td>0.628743</td>\n",
       "      <td>0.775449</td>\n",
       "      <td>0.736527</td>\n",
       "      <td>0.747006</td>\n",
       "      <td>0.769461</td>\n",
       "      <td>0.814371</td>\n",
       "      <td>0.830838</td>\n",
       "      <td>0.833832</td>\n",
       "    </tr>\n",
       "    <tr>\n",
       "      <th>8</th>\n",
       "      <td>0.510479</td>\n",
       "      <td>0.525449</td>\n",
       "      <td>0.534431</td>\n",
       "      <td>0.589820</td>\n",
       "      <td>0.651198</td>\n",
       "      <td>0.645210</td>\n",
       "      <td>0.655689</td>\n",
       "      <td>0.681138</td>\n",
       "      <td>0.694611</td>\n",
       "      <td>0.703593</td>\n",
       "      <td>0.723054</td>\n",
       "    </tr>\n",
       "  </tbody>\n",
       "</table>\n",
       "</div>"
      ],
      "text/plain": [
       "             0.001     0.003     0.010     0.030     0.100     0.300    \\\n",
       "Degree \\ C                                                               \n",
       "0           0.497006  0.497006  0.497006  0.497006  0.497006  0.497006   \n",
       "1           0.751497  0.814371  0.818862  0.824850  0.838323  0.841317   \n",
       "2           0.497006  0.508982  0.619760  0.706587  0.739521  0.758982   \n",
       "3           0.508982  0.556886  0.770958  0.833832  0.845808  0.845808   \n",
       "4           0.508982  0.517964  0.540419  0.723054  0.705090  0.714072   \n",
       "5           0.508982  0.523952  0.576347  0.747006  0.826347  0.827844   \n",
       "6           0.510479  0.520958  0.537425  0.616766  0.666168  0.678144   \n",
       "7           0.508982  0.525449  0.544910  0.628743  0.775449  0.736527   \n",
       "8           0.510479  0.525449  0.534431  0.589820  0.651198  0.645210   \n",
       "\n",
       "             1.000     3.000     10.000    30.000    100.000  \n",
       "Degree \\ C                                                    \n",
       "0           0.497006  0.497006  0.497006  0.497006  0.497006  \n",
       "1           0.841317  0.841317  0.841317  0.841317  0.841317  \n",
       "2           0.769461  0.778443  0.781437  0.778443  0.785928  \n",
       "3           0.856287  0.865269  0.856287  0.850299  0.850299  \n",
       "4           0.760479  0.773952  0.797904  0.799401  0.776946  \n",
       "5           0.835329  0.856287  0.857784  0.853293  0.851796  \n",
       "6           0.699102  0.718563  0.733533  0.758982  0.770958  \n",
       "7           0.747006  0.769461  0.814371  0.830838  0.833832  \n",
       "8           0.655689  0.681138  0.694611  0.703593  0.723054  "
      ]
     },
     "execution_count": 11,
     "metadata": {},
     "output_type": "execute_result"
    }
   ],
   "source": [
    "model_results = pd.DataFrame(score_matrix)\n",
    "model_results.columns = C\n",
    "model_results.index.name = \"Degree \\ C\"\n",
    "model_results"
   ]
  },
  {
   "cell_type": "markdown",
   "metadata": {},
   "source": [
    "### Se entrena el mejor modelo con los parámetros registrados y se obtienen las métricas más relevantes"
   ]
  },
  {
   "cell_type": "code",
   "execution_count": 12,
   "metadata": {
    "scrolled": true
   },
   "outputs": [],
   "source": [
    "final_model = SVC(C=3, \n",
    "                  kernel='poly',\n",
    "                  degree=3)\n",
    "final_model.fit(X,y)\n",
    "score = final_model.score(X_test,y_test)"
   ]
  },
  {
   "cell_type": "code",
   "execution_count": 13,
   "metadata": {},
   "outputs": [],
   "source": [
    "from sklearn.metrics import f1_score, precision_score, recall_score, confusion_matrix\n",
    "\n",
    "y_hat = final_model.predict(X_test)\n",
    "f1 = f1_score(y_test, y_hat)\n",
    "precision = precision_score(y_test, y_hat)\n",
    "recall = recall_score(y_test, y_hat)\n",
    "confusion = confusion_matrix(y_test, y_hat)"
   ]
  },
  {
   "cell_type": "markdown",
   "metadata": {},
   "source": [
    "### Con el objetivo de observar con mayor claridad los resultados obtenidos, se genera un tabla con los valores para los descriptores encontrados para el modelo. Al igual que en casos anteriores, esta estimaciones poseen un 3.4% de presición con un 95.79% de confianza."
   ]
  },
  {
   "cell_type": "code",
   "execution_count": 14,
   "metadata": {},
   "outputs": [
    {
     "data": {
      "text/html": [
       "<div>\n",
       "<style scoped>\n",
       "    .dataframe tbody tr th:only-of-type {\n",
       "        vertical-align: middle;\n",
       "    }\n",
       "\n",
       "    .dataframe tbody tr th {\n",
       "        vertical-align: top;\n",
       "    }\n",
       "\n",
       "    .dataframe thead th {\n",
       "        text-align: right;\n",
       "    }\n",
       "</style>\n",
       "<table border=\"1\" class=\"dataframe\">\n",
       "  <thead>\n",
       "    <tr style=\"text-align: right;\">\n",
       "      <th></th>\n",
       "      <th>Accuracy</th>\n",
       "      <th>Precisión</th>\n",
       "      <th>Recall</th>\n",
       "      <th>F1</th>\n",
       "    </tr>\n",
       "  </thead>\n",
       "  <tbody>\n",
       "    <tr>\n",
       "      <th>0</th>\n",
       "      <td>0.850898</td>\n",
       "      <td>0.822619</td>\n",
       "      <td>0.873578</td>\n",
       "      <td>0.847333</td>\n",
       "    </tr>\n",
       "  </tbody>\n",
       "</table>\n",
       "</div>"
      ],
      "text/plain": [
       "   Accuracy  Precisión    Recall        F1\n",
       "0  0.850898   0.822619  0.873578  0.847333"
      ]
     },
     "execution_count": 14,
     "metadata": {},
     "output_type": "execute_result"
    }
   ],
   "source": [
    "model_results = pd.DataFrame({\n",
    "    \"Accuracy\" : [score],\n",
    "    \"Precisión\" : [precision],\n",
    "    \"Recall\" : [recall],\n",
    "    \"F1\" : [f1]   \n",
    "})\n",
    "\n",
    "model_results"
   ]
  },
  {
   "cell_type": "markdown",
   "metadata": {},
   "source": [
    "### Se imprime la matriz de confusión y, a partir de ella, es posible evidenciar que el problema tiene mayor dificultad clasificando caciones de jazz. Además, es posible afirmar que los resultados obtenidos con la máquina de soporte vectorial son ligeramente mejores a los obtenidos con las redes neuronales exploradas en trabajos anteriores. Sin embargo, aún no representan una mejora significativa; por lo que en trabajos posteriores se hará uso de otros kernels en miras de lograr un rendimiento aceptable."
   ]
  },
  {
   "cell_type": "code",
   "execution_count": 15,
   "metadata": {},
   "outputs": [
    {
     "data": {
      "text/plain": [
       "array([[730, 149],\n",
       "       [100, 691]], dtype=int64)"
      ]
     },
     "execution_count": 15,
     "metadata": {},
     "output_type": "execute_result"
    }
   ],
   "source": [
    "confusion"
   ]
  }
 ],
 "metadata": {
  "kernelspec": {
   "display_name": "Python 3",
   "language": "python",
   "name": "python3"
  },
  "language_info": {
   "codemirror_mode": {
    "name": "ipython",
    "version": 3
   },
   "file_extension": ".py",
   "mimetype": "text/x-python",
   "name": "python",
   "nbconvert_exporter": "python",
   "pygments_lexer": "ipython3",
   "version": "3.7.6"
  }
 },
 "nbformat": 4,
 "nbformat_minor": 2
}
