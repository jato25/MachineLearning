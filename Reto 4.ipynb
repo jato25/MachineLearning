{
 "cells": [
  {
   "cell_type": "markdown",
   "metadata": {},
   "source": [
    "# Implementación gradiente estocástico\n",
    "### Javier Andres Téllez Ortiz - 201617861"
   ]
  },
  {
   "cell_type": "code",
   "execution_count": 1,
   "metadata": {
    "colab": {
     "base_uri": "https://localhost:8080/",
     "height": 170
    },
    "colab_type": "code",
    "executionInfo": {
     "elapsed": 6682,
     "status": "ok",
     "timestamp": 1582314347469,
     "user": {
      "displayName": "Javier Andres Tellez Ortiz",
      "photoUrl": "https://lh3.googleusercontent.com/a-/AAuE7mCI2mS81Su_mN15W6I_TEgKAwPML39oZE2WDmIW=s64",
      "userId": "12457688987056743232"
     },
     "user_tz": 300
    },
    "id": "mR5c9IE5SJBO",
    "outputId": "ebcfb378-4802-4c3b-d1e7-3a1bac9245fc"
   },
   "outputs": [
    {
     "name": "stdout",
     "output_type": "stream",
     "text": [
      "Requirement already satisfied: wget in d:\\programas\\anaconda3\\lib\\site-packages (3.2)\n",
      "Note: you may need to restart the kernel to use updated packages.\n"
     ]
    }
   ],
   "source": [
    "pip install wget"
   ]
  },
  {
   "cell_type": "markdown",
   "metadata": {},
   "source": [
    "###### Se descarga el dataset y se descomprime"
   ]
  },
  {
   "cell_type": "code",
   "execution_count": 2,
   "metadata": {
    "colab": {},
    "colab_type": "code",
    "id": "et9D1fUoNfNM"
   },
   "outputs": [
    {
     "name": "stdout",
     "output_type": "stream",
     "text": [
      "100% [..............................................................................] 96005 / 96005"
     ]
    }
   ],
   "source": [
    "import wget\n",
    "from zipfile import ZipFile\n",
    "\n",
    "##Se descarga el archivo del repositorio \n",
    "file = wget.download(\"http://www3.dsi.uminho.pt/pcortez/wine/winequality.zip\")\n",
    "\n",
    "##Se abre el archivo y se descomprime\n",
    "zpFile = ZipFile(file)\n",
    "zpFile.extractall()\n",
    "zpFile.close()"
   ]
  },
  {
   "cell_type": "markdown",
   "metadata": {},
   "source": [
    "###### Se abre el dataset y se verifica la estrutura de los datos"
   ]
  },
  {
   "cell_type": "code",
   "execution_count": 3,
   "metadata": {
    "colab": {
     "base_uri": "https://localhost:8080/",
     "height": 204
    },
    "colab_type": "code",
    "executionInfo": {
     "elapsed": 781,
     "status": "ok",
     "timestamp": 1582314401237,
     "user": {
      "displayName": "Javier Andres Tellez Ortiz",
      "photoUrl": "https://lh3.googleusercontent.com/a-/AAuE7mCI2mS81Su_mN15W6I_TEgKAwPML39oZE2WDmIW=s64",
      "userId": "12457688987056743232"
     },
     "user_tz": 300
    },
    "id": "TEhyKTRrNfNV",
    "outputId": "cba9effc-f907-4b3c-d4f2-7f7ab24bb14e"
   },
   "outputs": [
    {
     "data": {
      "text/html": [
       "<div>\n",
       "<style scoped>\n",
       "    .dataframe tbody tr th:only-of-type {\n",
       "        vertical-align: middle;\n",
       "    }\n",
       "\n",
       "    .dataframe tbody tr th {\n",
       "        vertical-align: top;\n",
       "    }\n",
       "\n",
       "    .dataframe thead th {\n",
       "        text-align: right;\n",
       "    }\n",
       "</style>\n",
       "<table border=\"1\" class=\"dataframe\">\n",
       "  <thead>\n",
       "    <tr style=\"text-align: right;\">\n",
       "      <th></th>\n",
       "      <th>fixed acidity</th>\n",
       "      <th>volatile acidity</th>\n",
       "      <th>citric acid</th>\n",
       "      <th>residual sugar</th>\n",
       "      <th>chlorides</th>\n",
       "      <th>free sulfur dioxide</th>\n",
       "      <th>total sulfur dioxide</th>\n",
       "      <th>density</th>\n",
       "      <th>pH</th>\n",
       "      <th>sulphates</th>\n",
       "      <th>alcohol</th>\n",
       "      <th>quality</th>\n",
       "    </tr>\n",
       "  </thead>\n",
       "  <tbody>\n",
       "    <tr>\n",
       "      <th>0</th>\n",
       "      <td>7.0</td>\n",
       "      <td>0.27</td>\n",
       "      <td>0.36</td>\n",
       "      <td>20.7</td>\n",
       "      <td>0.045</td>\n",
       "      <td>45.0</td>\n",
       "      <td>170.0</td>\n",
       "      <td>1.0010</td>\n",
       "      <td>3.00</td>\n",
       "      <td>0.45</td>\n",
       "      <td>8.8</td>\n",
       "      <td>6</td>\n",
       "    </tr>\n",
       "    <tr>\n",
       "      <th>1</th>\n",
       "      <td>6.3</td>\n",
       "      <td>0.30</td>\n",
       "      <td>0.34</td>\n",
       "      <td>1.6</td>\n",
       "      <td>0.049</td>\n",
       "      <td>14.0</td>\n",
       "      <td>132.0</td>\n",
       "      <td>0.9940</td>\n",
       "      <td>3.30</td>\n",
       "      <td>0.49</td>\n",
       "      <td>9.5</td>\n",
       "      <td>6</td>\n",
       "    </tr>\n",
       "    <tr>\n",
       "      <th>2</th>\n",
       "      <td>8.1</td>\n",
       "      <td>0.28</td>\n",
       "      <td>0.40</td>\n",
       "      <td>6.9</td>\n",
       "      <td>0.050</td>\n",
       "      <td>30.0</td>\n",
       "      <td>97.0</td>\n",
       "      <td>0.9951</td>\n",
       "      <td>3.26</td>\n",
       "      <td>0.44</td>\n",
       "      <td>10.1</td>\n",
       "      <td>6</td>\n",
       "    </tr>\n",
       "    <tr>\n",
       "      <th>3</th>\n",
       "      <td>7.2</td>\n",
       "      <td>0.23</td>\n",
       "      <td>0.32</td>\n",
       "      <td>8.5</td>\n",
       "      <td>0.058</td>\n",
       "      <td>47.0</td>\n",
       "      <td>186.0</td>\n",
       "      <td>0.9956</td>\n",
       "      <td>3.19</td>\n",
       "      <td>0.40</td>\n",
       "      <td>9.9</td>\n",
       "      <td>6</td>\n",
       "    </tr>\n",
       "    <tr>\n",
       "      <th>4</th>\n",
       "      <td>7.2</td>\n",
       "      <td>0.23</td>\n",
       "      <td>0.32</td>\n",
       "      <td>8.5</td>\n",
       "      <td>0.058</td>\n",
       "      <td>47.0</td>\n",
       "      <td>186.0</td>\n",
       "      <td>0.9956</td>\n",
       "      <td>3.19</td>\n",
       "      <td>0.40</td>\n",
       "      <td>9.9</td>\n",
       "      <td>6</td>\n",
       "    </tr>\n",
       "  </tbody>\n",
       "</table>\n",
       "</div>"
      ],
      "text/plain": [
       "   fixed acidity  volatile acidity  citric acid  residual sugar  chlorides  \\\n",
       "0            7.0              0.27         0.36            20.7      0.045   \n",
       "1            6.3              0.30         0.34             1.6      0.049   \n",
       "2            8.1              0.28         0.40             6.9      0.050   \n",
       "3            7.2              0.23         0.32             8.5      0.058   \n",
       "4            7.2              0.23         0.32             8.5      0.058   \n",
       "\n",
       "   free sulfur dioxide  total sulfur dioxide  density    pH  sulphates  \\\n",
       "0                 45.0                 170.0   1.0010  3.00       0.45   \n",
       "1                 14.0                 132.0   0.9940  3.30       0.49   \n",
       "2                 30.0                  97.0   0.9951  3.26       0.44   \n",
       "3                 47.0                 186.0   0.9956  3.19       0.40   \n",
       "4                 47.0                 186.0   0.9956  3.19       0.40   \n",
       "\n",
       "   alcohol  quality  \n",
       "0      8.8        6  \n",
       "1      9.5        6  \n",
       "2     10.1        6  \n",
       "3      9.9        6  \n",
       "4      9.9        6  "
      ]
     },
     "execution_count": 3,
     "metadata": {},
     "output_type": "execute_result"
    }
   ],
   "source": [
    "import pandas as pd\n",
    "import numpy as np\n",
    "import math\n",
    "\n",
    "##Se abre el archivo con más datos disponibles\n",
    "dataframe = pd.read_csv(\"winequality/winequality-white.csv\", delimiter = \";\")\n",
    "\n",
    "##Se muestra la composición de los datos\n",
    "dataframe.dropna()\n",
    "dataframe.head()"
   ]
  },
  {
   "cell_type": "markdown",
   "metadata": {},
   "source": [
    "###### Se obtienen los nombres de cada característica y el valor de los datos"
   ]
  },
  {
   "cell_type": "code",
   "execution_count": 4,
   "metadata": {
    "colab": {},
    "colab_type": "code",
    "id": "SXxNfueCNfNa"
   },
   "outputs": [],
   "source": [
    "##Se obtienen los nombres de los parámetros del modelo del dataset\n",
    "features = dataframe.columns.tolist()\n",
    "\n",
    "##Se obtienen los valores y se dividen entre datos y objetivos\n",
    "values = dataframe.values\n",
    "\n",
    "y = values[:,-1]\n",
    "X = values[:,0:-1]"
   ]
  },
  {
   "cell_type": "markdown",
   "metadata": {},
   "source": [
    "###### Se normalizan los datos y se agrega un vector de 1's que representan el intercepto"
   ]
  },
  {
   "cell_type": "code",
   "execution_count": 5,
   "metadata": {
    "colab": {
     "base_uri": "https://localhost:8080/",
     "height": 238
    },
    "colab_type": "code",
    "executionInfo": {
     "elapsed": 699,
     "status": "ok",
     "timestamp": 1582316583327,
     "user": {
      "displayName": "Javier Andres Tellez Ortiz",
      "photoUrl": "https://lh3.googleusercontent.com/a-/AAuE7mCI2mS81Su_mN15W6I_TEgKAwPML39oZE2WDmIW=s64",
      "userId": "12457688987056743232"
     },
     "user_tz": 300
    },
    "id": "xeKbM75JNfNf",
    "outputId": "e521d320-a122-445e-9faf-6c67e088b957"
   },
   "outputs": [],
   "source": [
    "from sklearn.preprocessing import StandardScaler\n",
    "\n",
    "scaler = StandardScaler()\n",
    "\n",
    "##Se estandarizan los datos provenientes del archivo\n",
    "normalized_values = scaler.fit(values).transform(values)\n",
    "\n",
    "##Se dividen entre datos y objetivos\n",
    "normalized_y = normalized_values[:,-1]\n",
    "normalized_X = normalized_values[:,0:-1]\n",
    "\n",
    "##Se agrega un vector de unos a los datos\n",
    "data_rows = normalized_X.shape[0]\n",
    "ones_vector =  np.ones([data_rows,1])\n",
    "X_ones = np.concatenate((ones_vector , normalized_X), 1)"
   ]
  },
  {
   "cell_type": "markdown",
   "metadata": {},
   "source": [
    "###### Se obtiene el número de condición de cada conjunto de datos. De este resultado, es posible afirmar que si se desea usar desenso de gradiente conviene usar lo datos estandarizados; por lo que se hará el análisis con estos datos."
   ]
  },
  {
   "cell_type": "code",
   "execution_count": 6,
   "metadata": {},
   "outputs": [
    {
     "name": "stdout",
     "output_type": "stream",
     "text": [
      "Número de condición datos sin preprocesar: 59401148\n",
      "Número de condición datos preprocesados: 156\n"
     ]
    }
   ],
   "source": [
    "condition_number_1 = np.linalg.cond(np.matmul(X.T,X))\n",
    "condition_number_2 = np.linalg.cond(np.matmul(X_ones.T,X_ones))\n",
    "\n",
    "print(\"Número de condición datos sin preprocesar: %d\" % (condition_number_1))\n",
    "print(\"Número de condición datos preprocesados: %d\" % (condition_number_2))"
   ]
  },
  {
   "cell_type": "markdown",
   "metadata": {},
   "source": [
    "###### Se dividen los datos entre conjunto de prueba y conjunto de entrenamiento"
   ]
  },
  {
   "cell_type": "code",
   "execution_count": 7,
   "metadata": {},
   "outputs": [],
   "source": [
    "from sklearn.model_selection import train_test_split\n",
    "\n",
    "X_train, X_test, y_train, y_test = train_test_split(X_ones, normalized_y, test_size = 0.4083, random_state = 7861) "
   ]
  },
  {
   "cell_type": "markdown",
   "metadata": {},
   "source": [
    "###### Se define la función que retorna el valor del gradiente para los parámetros y datos ingresados "
   ]
  },
  {
   "cell_type": "code",
   "execution_count": 8,
   "metadata": {
    "colab": {},
    "colab_type": "code",
    "id": "YfgxusBBNfNo"
   },
   "outputs": [],
   "source": [
    "def calculate_gradient(X, y, w):\n",
    "    \n",
    "    y_hat = np.matmul(X,w)\n",
    "    error = y_hat - y  \n",
    "    gradiente = np.matmul(error, X)\n",
    "    \n",
    "    return gradiente"
   ]
  },
  {
   "cell_type": "markdown",
   "metadata": {},
   "source": [
    "###### Se define la función que divide los datos en lotes de acuerdo con el tamaño especificado"
   ]
  },
  {
   "cell_type": "code",
   "execution_count": 17,
   "metadata": {
    "colab": {},
    "colab_type": "code",
    "id": "avM0zLzSNfNt"
   },
   "outputs": [],
   "source": [
    "def splitBatches(X, y, batch_size):\n",
    "    ## Se obtiene el número total de datos\n",
    "    m = X.shape[0]\n",
    "    \n",
    "    ##Se calcula la cantidad total de lotes\n",
    "    batches = math.ceil(m/batch_size)\n",
    "    \n",
    "    ##Se mezclan aleatoriamente los datos\n",
    "    np.random.seed(None)\n",
    "    data = np.c_[X,y]\n",
    "    np.random.shuffle(data)\n",
    "\n",
    "    X_batches = []\n",
    "    y_batches = []\n",
    "    \n",
    "    for i in range(batches):\n",
    "        \n",
    "        ##Se toman subconjuntos de datos con el tamaño especificado \n",
    "        X_batch = data[0:batch_size,:-1]\n",
    "        X_batches.append(X_batch)\n",
    "                \n",
    "        y_batch = data[0:batch_size,-1]\n",
    "        y_batches.append(y_batch)\n",
    "        \n",
    "        data = data[batch_size:,:]\n",
    "        \n",
    "    return X_batches, y_batches\n"
   ]
  },
  {
   "cell_type": "markdown",
   "metadata": {},
   "source": [
    "###### Se define la función para realizar el entrenamiento sobre el conjunto de datos"
   ]
  },
  {
   "cell_type": "code",
   "execution_count": 18,
   "metadata": {
    "colab": {},
    "colab_type": "code",
    "id": "f7por-eMNfNy"
   },
   "outputs": [],
   "source": [
    "def model_train(X, y, batch_size = 1, epocs = 5, learning_rate = 0.0001, tol = 1e-4):\n",
    "    \n",
    "    ##Se define el número de parámetros a entrenar\n",
    "    n = X.shape[1]\n",
    "    \n",
    "    ##Se inicializan los parámetros a entrenar\n",
    "    np.random.seed(7861)\n",
    "    w_0 = np.random.rand(n)\n",
    "    \n",
    "    ##Se inicializa el error en un valor arbitrario\n",
    "    actual_error = 2    \n",
    "    \n",
    "    for epoc in range(epocs):\n",
    "        \n",
    "        ##Se dividen los datos en lotes al inicio de cada época\n",
    "        ##se realiza este procedimiento antes de cada época para \n",
    "        ##garantizar que los datos estén barajados de forma distinta\n",
    "        ##en cada recorrido\n",
    "        X_batches, y_batches = splitBatches(X, y, batch_size)\n",
    "        \n",
    "        for X_batch, y_batch in zip(X_batches, y_batches):\n",
    "            \n",
    "            ##Para cada lote, se realiza el cálculo del gradiente y\n",
    "            ##la actualización de los pesos\n",
    "            w = calculate_gradient(X_batch, y_batch, w_0)                  \n",
    "            w_0 = w_0 - learning_rate * w\n",
    "        \n",
    "        ##Se calcula el error al final de cada recorrido por los datos\n",
    "        previous_error = actual_error\n",
    "        actual_error = quadratic_error(X, y, w_0)\n",
    "        \n",
    "        ##Se imprime el valor del error cada 100 épocas\n",
    "        if (epoc % 100 == 0):     \n",
    "            print(\"Epoc %d error: %.4f\" % (epoc,actual_error))\n",
    "            \n",
    "        ##Se verifica que el cambio del error no sea menor a la toleracia\n",
    "        ##cada 20 épocas\n",
    "        if (epoc % 20 == 0 and np.abs(previous_error - actual_error) < tol):\n",
    "            break\n",
    "         \n",
    "    ##Se reporta el error del modelo completamente entrenado\n",
    "    print(\"Model error : %.4f\" % (actual_error))\n",
    "    return w_0"
   ]
  },
  {
   "cell_type": "markdown",
   "metadata": {},
   "source": [
    "###### Se define una fución que permite calcular el error cuadrático "
   ]
  },
  {
   "cell_type": "code",
   "execution_count": 19,
   "metadata": {
    "colab": {},
    "colab_type": "code",
    "id": "zYbySLQ8NfN2"
   },
   "outputs": [],
   "source": [
    "def quadratic_error(X,y,w):\n",
    "    y_hat = np.matmul(X,w)\n",
    "    error = y_hat - y\n",
    "    error = np.mean(error ** 2)\n",
    "    return error"
   ]
  },
  {
   "cell_type": "markdown",
   "metadata": {},
   "source": [
    "###### Se entrena el modelo con un tamaño de lote de 10, una tasa de aprendizaje de  10^-4 (máxima tasa encontrada que garantiza convergencia), 1000 recorridos por todos los datos de entrenamiento y un criterio de parada de 10^-6 para el error "
   ]
  },
  {
   "cell_type": "code",
   "execution_count": 20,
   "metadata": {
    "colab": {
     "base_uri": "https://localhost:8080/",
     "height": 238
    },
    "colab_type": "code",
    "executionInfo": {
     "elapsed": 1747,
     "status": "ok",
     "timestamp": 1582316734356,
     "user": {
      "displayName": "Javier Andres Tellez Ortiz",
      "photoUrl": "https://lh3.googleusercontent.com/a-/AAuE7mCI2mS81Su_mN15W6I_TEgKAwPML39oZE2WDmIW=s64",
      "userId": "12457688987056743232"
     },
     "user_tz": 300
    },
    "id": "si7c7l8ANfN7",
    "outputId": "132f7b46-482f-4307-df9d-4e88a4c6399d"
   },
   "outputs": [
    {
     "name": "stdout",
     "output_type": "stream",
     "text": [
      "Epoc 0 error: 3.0090\n",
      "Epoc 100 error: 0.6975\n",
      "Epoc 200 error: 0.6948\n",
      "Epoc 300 error: 0.6942\n",
      "Epoc 400 error: 0.6940\n",
      "Model error : 0.6940\n"
     ]
    }
   ],
   "source": [
    "W = model_train(X_train, y_train, batch_size = 10, learning_rate=0.0001, epocs = 1000, tol = 1e-6)"
   ]
  },
  {
   "cell_type": "markdown",
   "metadata": {},
   "source": [
    "###### Se entrena otro modelo haciendo uso de la librería skleran usando el mismo conjunto de datos"
   ]
  },
  {
   "cell_type": "code",
   "execution_count": 21,
   "metadata": {
    "colab": {
     "base_uri": "https://localhost:8080/",
     "height": 34
    },
    "colab_type": "code",
    "executionInfo": {
     "elapsed": 902,
     "status": "ok",
     "timestamp": 1582314872655,
     "user": {
      "displayName": "Javier Andres Tellez Ortiz",
      "photoUrl": "https://lh3.googleusercontent.com/a-/AAuE7mCI2mS81Su_mN15W6I_TEgKAwPML39oZE2WDmIW=s64",
      "userId": "12457688987056743232"
     },
     "user_tz": 300
    },
    "id": "I9zZDdHVSiU6",
    "outputId": "8f6d425f-bace-43a6-9658-d67e39f45e96"
   },
   "outputs": [],
   "source": [
    "from sklearn.linear_model import LinearRegression\n",
    "regression = LinearRegression().fit(X_train[:,1:], y_train)"
   ]
  },
  {
   "cell_type": "markdown",
   "metadata": {},
   "source": [
    "###### Se reportan los coeficientes obtenidos los cuales poseen valores muy cercanos "
   ]
  },
  {
   "cell_type": "code",
   "execution_count": 14,
   "metadata": {},
   "outputs": [
    {
     "data": {
      "text/html": [
       "<div>\n",
       "<style scoped>\n",
       "    .dataframe tbody tr th:only-of-type {\n",
       "        vertical-align: middle;\n",
       "    }\n",
       "\n",
       "    .dataframe tbody tr th {\n",
       "        vertical-align: top;\n",
       "    }\n",
       "\n",
       "    .dataframe thead th {\n",
       "        text-align: right;\n",
       "    }\n",
       "</style>\n",
       "<table border=\"1\" class=\"dataframe\">\n",
       "  <thead>\n",
       "    <tr style=\"text-align: right;\">\n",
       "      <th></th>\n",
       "      <th>Característica</th>\n",
       "      <th>Gradiente estocástico</th>\n",
       "      <th>Librería</th>\n",
       "    </tr>\n",
       "  </thead>\n",
       "  <tbody>\n",
       "    <tr>\n",
       "      <th>0</th>\n",
       "      <td>fixed acidity</td>\n",
       "      <td>0.013082</td>\n",
       "      <td>0.033863</td>\n",
       "    </tr>\n",
       "    <tr>\n",
       "      <th>1</th>\n",
       "      <td>volatile acidity</td>\n",
       "      <td>-0.228133</td>\n",
       "      <td>-0.225578</td>\n",
       "    </tr>\n",
       "    <tr>\n",
       "      <th>2</th>\n",
       "      <td>citric acid</td>\n",
       "      <td>0.002000</td>\n",
       "      <td>0.003471</td>\n",
       "    </tr>\n",
       "    <tr>\n",
       "      <th>3</th>\n",
       "      <td>residual sugar</td>\n",
       "      <td>0.359827</td>\n",
       "      <td>0.420781</td>\n",
       "    </tr>\n",
       "    <tr>\n",
       "      <th>4</th>\n",
       "      <td>chlorides</td>\n",
       "      <td>-0.017378</td>\n",
       "      <td>-0.014071</td>\n",
       "    </tr>\n",
       "    <tr>\n",
       "      <th>5</th>\n",
       "      <td>free sulfur dioxide</td>\n",
       "      <td>0.093169</td>\n",
       "      <td>0.088576</td>\n",
       "    </tr>\n",
       "    <tr>\n",
       "      <th>6</th>\n",
       "      <td>total sulfur dioxide</td>\n",
       "      <td>-0.025303</td>\n",
       "      <td>-0.020836</td>\n",
       "    </tr>\n",
       "    <tr>\n",
       "      <th>7</th>\n",
       "      <td>density</td>\n",
       "      <td>-0.320897</td>\n",
       "      <td>-0.410741</td>\n",
       "    </tr>\n",
       "    <tr>\n",
       "      <th>8</th>\n",
       "      <td>pH</td>\n",
       "      <td>0.080547</td>\n",
       "      <td>0.098020</td>\n",
       "    </tr>\n",
       "    <tr>\n",
       "      <th>9</th>\n",
       "      <td>sulphates</td>\n",
       "      <td>0.060552</td>\n",
       "      <td>0.066715</td>\n",
       "    </tr>\n",
       "    <tr>\n",
       "      <th>10</th>\n",
       "      <td>alcohol</td>\n",
       "      <td>0.375182</td>\n",
       "      <td>0.331506</td>\n",
       "    </tr>\n",
       "  </tbody>\n",
       "</table>\n",
       "</div>"
      ],
      "text/plain": [
       "          Característica  Gradiente estocástico  Librería\n",
       "0          fixed acidity               0.013082  0.033863\n",
       "1       volatile acidity              -0.228133 -0.225578\n",
       "2            citric acid               0.002000  0.003471\n",
       "3         residual sugar               0.359827  0.420781\n",
       "4              chlorides              -0.017378 -0.014071\n",
       "5    free sulfur dioxide               0.093169  0.088576\n",
       "6   total sulfur dioxide              -0.025303 -0.020836\n",
       "7                density              -0.320897 -0.410741\n",
       "8                     pH               0.080547  0.098020\n",
       "9              sulphates               0.060552  0.066715\n",
       "10               alcohol               0.375182  0.331506"
      ]
     },
     "execution_count": 14,
     "metadata": {},
     "output_type": "execute_result"
    }
   ],
   "source": [
    "regression_model = pd.DataFrame({\"Característica\" : features[0:-1],\n",
    "                                \"Gradiente estocástico\" : W[1:],\n",
    "                                \"Librería\" : regression.coef_ \n",
    "                                })\n",
    "\n",
    "regression_model"
   ]
  },
  {
   "cell_type": "markdown",
   "metadata": {},
   "source": [
    "###### Se calcula el error cuadrático medio para ambos modelos y el valor de R2"
   ]
  },
  {
   "cell_type": "code",
   "execution_count": 23,
   "metadata": {},
   "outputs": [
    {
     "data": {
      "text/html": [
       "<div>\n",
       "<style scoped>\n",
       "    .dataframe tbody tr th:only-of-type {\n",
       "        vertical-align: middle;\n",
       "    }\n",
       "\n",
       "    .dataframe tbody tr th {\n",
       "        vertical-align: top;\n",
       "    }\n",
       "\n",
       "    .dataframe thead th {\n",
       "        text-align: right;\n",
       "    }\n",
       "</style>\n",
       "<table border=\"1\" class=\"dataframe\">\n",
       "  <thead>\n",
       "    <tr style=\"text-align: right;\">\n",
       "      <th></th>\n",
       "      <th>Tipo de entrenamiento</th>\n",
       "      <th>Error cuadrático</th>\n",
       "      <th>R2</th>\n",
       "    </tr>\n",
       "  </thead>\n",
       "  <tbody>\n",
       "    <tr>\n",
       "      <th>0</th>\n",
       "      <td>Gradiente estocástico</td>\n",
       "      <td>0.756367</td>\n",
       "      <td>0.251742</td>\n",
       "    </tr>\n",
       "    <tr>\n",
       "      <th>1</th>\n",
       "      <td>Librería</td>\n",
       "      <td>0.755971</td>\n",
       "      <td>0.252133</td>\n",
       "    </tr>\n",
       "  </tbody>\n",
       "</table>\n",
       "</div>"
      ],
      "text/plain": [
       "   Tipo de entrenamiento  Error cuadrático        R2\n",
       "0  Gradiente estocástico          0.756367  0.251742\n",
       "1               Librería          0.755971  0.252133"
      ]
     },
     "execution_count": 23,
     "metadata": {},
     "output_type": "execute_result"
    }
   ],
   "source": [
    "from sklearn.metrics import r2_score\n",
    "\n",
    "y_hat = regression.predict(X_test[:,1:])\n",
    "sk_error = y_hat - y_test\n",
    "sk_error = np.mean(sk_error ** 2)\n",
    "\n",
    "estocastic_error = quadratic_error(X_test, y_test, W)\n",
    "y_hat_est = np.matmul(X_test,W)\n",
    "\n",
    "r2_sk = r2_score(y_test, y_hat)\n",
    "r2_est = r2_score(y_test, y_hat_est)\n",
    "\n",
    "models_error = pd.DataFrame({\"Tipo de entrenamiento\" : [\"Gradiente estocástico\", \"Librería\"],\n",
    "                            \"Error cuadrático\" :[estocastic_error, sk_error],\n",
    "                            \"R2\" : [r2_est, r2_sk]})\n",
    "\n",
    "models_error"
   ]
  },
  {
   "cell_type": "markdown",
   "metadata": {},
   "source": [
    "## Conclusiones:\n",
    "- Se evidencia que la implementación realizada del algoritmo de descenso de gradiente estocástico es correcta debido a que genera resultados similares a los de la librería sklearn.\n",
    "- Se observó la importancia de la escogencia adecuada de parámetros como la tasa de aprendizaje, el tamaño de los lotes y el número de épocas de entrenamiento; ya que estas afectan la velocidad de convergencia del algortimo y la precisión de la aproximación al modelo real del fenómeno que describen los datos.\n",
    "- Nuevamente es posible afirmar, a partir del error obtenido y del R2, que el modelo lineal no es un modelo adecuado para el modelamiento del fenómeno estudiado."
   ]
  }
 ],
 "metadata": {
  "colab": {
   "collapsed_sections": [],
   "name": "Reto 4.ipynb",
   "provenance": []
  },
  "kernelspec": {
   "display_name": "Python 3",
   "language": "python",
   "name": "python3"
  },
  "language_info": {
   "codemirror_mode": {
    "name": "ipython",
    "version": 3
   },
   "file_extension": ".py",
   "mimetype": "text/x-python",
   "name": "python",
   "nbconvert_exporter": "python",
   "pygments_lexer": "ipython3",
   "version": "3.7.6"
  }
 },
 "nbformat": 4,
 "nbformat_minor": 1
}
