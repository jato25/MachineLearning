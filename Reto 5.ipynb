{
 "cells": [
  {
   "cell_type": "markdown",
   "metadata": {},
   "source": [
    "# Clasificación de canciones con perceptrón multinivel\n",
    "### Javier Andres Tellez Ortiz - 201617861"
   ]
  },
  {
   "cell_type": "markdown",
   "metadata": {},
   "source": [
    "##### Se descarga el conjunto de datos y se descomprime"
   ]
  },
  {
   "cell_type": "code",
   "execution_count": 1,
   "metadata": {},
   "outputs": [
    {
     "name": "stdout",
     "output_type": "stream",
     "text": [
      "Requirement already satisfied: wget in d:\\programas\\anaconda3\\lib\\site-packages (3.2)\n",
      "Note: you may need to restart the kernel to use updated packages.\n"
     ]
    }
   ],
   "source": [
    "pip install wget"
   ]
  },
  {
   "cell_type": "code",
   "execution_count": 2,
   "metadata": {},
   "outputs": [
    {
     "name": "stdout",
     "output_type": "stream",
     "text": [
      "100% [........................................................................] 12656044 / 12656044"
     ]
    }
   ],
   "source": [
    "import wget\n",
    "from zipfile import ZipFile\n",
    "\n",
    "##Se descarga el archivo del repositorio \n",
    "file = wget.download(\"http://millionsongdataset.com/sites/default/files/AdditionalFiles/msd_genre_dataset.zip\")\n",
    "\n",
    "##Se abre el archivo y se descomprime\n",
    "zpFile = ZipFile(file)\n",
    "zpFile.extractall()\n",
    "zpFile.close()"
   ]
  },
  {
   "cell_type": "markdown",
   "metadata": {},
   "source": [
    "##### Se abre el conjunto de datos, se eliminan los datos con algún elemento faltante y se examina la estructura del mismo."
   ]
  },
  {
   "cell_type": "code",
   "execution_count": 3,
   "metadata": {},
   "outputs": [
    {
     "data": {
      "text/html": [
       "<div>\n",
       "<style scoped>\n",
       "    .dataframe tbody tr th:only-of-type {\n",
       "        vertical-align: middle;\n",
       "    }\n",
       "\n",
       "    .dataframe tbody tr th {\n",
       "        vertical-align: top;\n",
       "    }\n",
       "\n",
       "    .dataframe thead th {\n",
       "        text-align: right;\n",
       "    }\n",
       "</style>\n",
       "<table border=\"1\" class=\"dataframe\">\n",
       "  <thead>\n",
       "    <tr style=\"text-align: right;\">\n",
       "      <th></th>\n",
       "      <th>%genre</th>\n",
       "      <th>track_id</th>\n",
       "      <th>artist_name</th>\n",
       "      <th>title</th>\n",
       "      <th>loudness</th>\n",
       "      <th>tempo</th>\n",
       "      <th>time_signature</th>\n",
       "      <th>key</th>\n",
       "      <th>mode</th>\n",
       "      <th>duration</th>\n",
       "      <th>...</th>\n",
       "      <th>var_timbre3</th>\n",
       "      <th>var_timbre4</th>\n",
       "      <th>var_timbre5</th>\n",
       "      <th>var_timbre6</th>\n",
       "      <th>var_timbre7</th>\n",
       "      <th>var_timbre8</th>\n",
       "      <th>var_timbre9</th>\n",
       "      <th>var_timbre10</th>\n",
       "      <th>var_timbre11</th>\n",
       "      <th>var_timbre12</th>\n",
       "    </tr>\n",
       "  </thead>\n",
       "  <tbody>\n",
       "    <tr>\n",
       "      <th>0</th>\n",
       "      <td>classic pop and rock</td>\n",
       "      <td>TRFCOOU128F427AEC0</td>\n",
       "      <td>Blue Oyster Cult</td>\n",
       "      <td>Mes Dames Sarat</td>\n",
       "      <td>-8.697</td>\n",
       "      <td>155.007</td>\n",
       "      <td>1</td>\n",
       "      <td>9</td>\n",
       "      <td>1</td>\n",
       "      <td>246.33424</td>\n",
       "      <td>...</td>\n",
       "      <td>1255.514569</td>\n",
       "      <td>580.030472</td>\n",
       "      <td>598.485223</td>\n",
       "      <td>575.337671</td>\n",
       "      <td>322.068603</td>\n",
       "      <td>321.726029</td>\n",
       "      <td>232.700609</td>\n",
       "      <td>186.805303</td>\n",
       "      <td>181.938688</td>\n",
       "      <td>151.508011</td>\n",
       "    </tr>\n",
       "    <tr>\n",
       "      <th>1</th>\n",
       "      <td>classic pop and rock</td>\n",
       "      <td>TRNJTPB128F427AE9F</td>\n",
       "      <td>Blue Oyster Cult</td>\n",
       "      <td>Screams</td>\n",
       "      <td>-10.659</td>\n",
       "      <td>148.462</td>\n",
       "      <td>1</td>\n",
       "      <td>4</td>\n",
       "      <td>0</td>\n",
       "      <td>189.80526</td>\n",
       "      <td>...</td>\n",
       "      <td>2007.653070</td>\n",
       "      <td>1043.474073</td>\n",
       "      <td>585.694981</td>\n",
       "      <td>564.013736</td>\n",
       "      <td>510.177022</td>\n",
       "      <td>400.200186</td>\n",
       "      <td>365.119588</td>\n",
       "      <td>238.099708</td>\n",
       "      <td>197.933757</td>\n",
       "      <td>251.577525</td>\n",
       "    </tr>\n",
       "    <tr>\n",
       "      <th>2</th>\n",
       "      <td>classic pop and rock</td>\n",
       "      <td>TRLFJHA128F427AEEA</td>\n",
       "      <td>Blue Oyster Cult</td>\n",
       "      <td>Dance The Night Away</td>\n",
       "      <td>-13.494</td>\n",
       "      <td>112.909</td>\n",
       "      <td>1</td>\n",
       "      <td>10</td>\n",
       "      <td>0</td>\n",
       "      <td>158.19710</td>\n",
       "      <td>...</td>\n",
       "      <td>1204.856777</td>\n",
       "      <td>2736.520024</td>\n",
       "      <td>730.233239</td>\n",
       "      <td>665.203452</td>\n",
       "      <td>535.775111</td>\n",
       "      <td>439.335059</td>\n",
       "      <td>486.822970</td>\n",
       "      <td>265.333860</td>\n",
       "      <td>447.097987</td>\n",
       "      <td>251.880724</td>\n",
       "    </tr>\n",
       "    <tr>\n",
       "      <th>3</th>\n",
       "      <td>classic pop and rock</td>\n",
       "      <td>TRCQZAG128F427DB97</td>\n",
       "      <td>Blue Oyster Cult</td>\n",
       "      <td>Debbie Denise</td>\n",
       "      <td>-12.786</td>\n",
       "      <td>117.429</td>\n",
       "      <td>4</td>\n",
       "      <td>7</td>\n",
       "      <td>1</td>\n",
       "      <td>250.22649</td>\n",
       "      <td>...</td>\n",
       "      <td>809.755802</td>\n",
       "      <td>563.908070</td>\n",
       "      <td>492.803819</td>\n",
       "      <td>378.382799</td>\n",
       "      <td>372.875044</td>\n",
       "      <td>231.941957</td>\n",
       "      <td>246.313305</td>\n",
       "      <td>168.400152</td>\n",
       "      <td>85.282462</td>\n",
       "      <td>339.897173</td>\n",
       "    </tr>\n",
       "    <tr>\n",
       "      <th>4</th>\n",
       "      <td>classic pop and rock</td>\n",
       "      <td>TRNXMNM128F427DB8C</td>\n",
       "      <td>Blue Oyster Cult</td>\n",
       "      <td>(Don't Fear) The Reaper</td>\n",
       "      <td>-14.093</td>\n",
       "      <td>141.536</td>\n",
       "      <td>4</td>\n",
       "      <td>9</td>\n",
       "      <td>0</td>\n",
       "      <td>307.06893</td>\n",
       "      <td>...</td>\n",
       "      <td>1093.684935</td>\n",
       "      <td>343.556047</td>\n",
       "      <td>889.163314</td>\n",
       "      <td>218.111796</td>\n",
       "      <td>304.862864</td>\n",
       "      <td>178.352161</td>\n",
       "      <td>440.478867</td>\n",
       "      <td>142.669283</td>\n",
       "      <td>81.061326</td>\n",
       "      <td>208.355152</td>\n",
       "    </tr>\n",
       "  </tbody>\n",
       "</table>\n",
       "<p>5 rows × 34 columns</p>\n",
       "</div>"
      ],
      "text/plain": [
       "                 %genre            track_id       artist_name  \\\n",
       "0  classic pop and rock  TRFCOOU128F427AEC0  Blue Oyster Cult   \n",
       "1  classic pop and rock  TRNJTPB128F427AE9F  Blue Oyster Cult   \n",
       "2  classic pop and rock  TRLFJHA128F427AEEA  Blue Oyster Cult   \n",
       "3  classic pop and rock  TRCQZAG128F427DB97  Blue Oyster Cult   \n",
       "4  classic pop and rock  TRNXMNM128F427DB8C  Blue Oyster Cult   \n",
       "\n",
       "                     title  loudness    tempo  time_signature  key  mode  \\\n",
       "0          Mes Dames Sarat    -8.697  155.007               1    9     1   \n",
       "1                  Screams   -10.659  148.462               1    4     0   \n",
       "2     Dance The Night Away   -13.494  112.909               1   10     0   \n",
       "3            Debbie Denise   -12.786  117.429               4    7     1   \n",
       "4  (Don't Fear) The Reaper   -14.093  141.536               4    9     0   \n",
       "\n",
       "    duration  ...  var_timbre3  var_timbre4  var_timbre5  var_timbre6  \\\n",
       "0  246.33424  ...  1255.514569   580.030472   598.485223   575.337671   \n",
       "1  189.80526  ...  2007.653070  1043.474073   585.694981   564.013736   \n",
       "2  158.19710  ...  1204.856777  2736.520024   730.233239   665.203452   \n",
       "3  250.22649  ...   809.755802   563.908070   492.803819   378.382799   \n",
       "4  307.06893  ...  1093.684935   343.556047   889.163314   218.111796   \n",
       "\n",
       "   var_timbre7  var_timbre8  var_timbre9  var_timbre10  var_timbre11  \\\n",
       "0   322.068603   321.726029   232.700609    186.805303    181.938688   \n",
       "1   510.177022   400.200186   365.119588    238.099708    197.933757   \n",
       "2   535.775111   439.335059   486.822970    265.333860    447.097987   \n",
       "3   372.875044   231.941957   246.313305    168.400152     85.282462   \n",
       "4   304.862864   178.352161   440.478867    142.669283     81.061326   \n",
       "\n",
       "   var_timbre12  \n",
       "0    151.508011  \n",
       "1    251.577525  \n",
       "2    251.880724  \n",
       "3    339.897173  \n",
       "4    208.355152  \n",
       "\n",
       "[5 rows x 34 columns]"
      ]
     },
     "execution_count": 3,
     "metadata": {},
     "output_type": "execute_result"
    }
   ],
   "source": [
    "import pandas as pd\n",
    "import numpy as np\n",
    "\n",
    "dataset = pd.read_csv(\"msd_genre_dataset.txt\", skiprows = range(9))\n",
    "\n",
    "dataset.dropna()\n",
    "dataset.head()"
   ]
  },
  {
   "cell_type": "markdown",
   "metadata": {},
   "source": [
    "##### Se obtienen los datos de las clases con los que se generará el modelo.  Previamente, se eliminaron las columnas 'track_id', 'artist_name' y 'title'"
   ]
  },
  {
   "cell_type": "code",
   "execution_count": 4,
   "metadata": {},
   "outputs": [],
   "source": [
    "dataset = dataset.drop(columns = [\"track_id\", \"artist_name\", \"title\"])\n",
    "features = dataset.columns.tolist()\n",
    "dataset = dataset[(dataset[\"%genre\"] == \"jazz and blues\") | (dataset[\"%genre\"] == \"soul and reggae\")]"
   ]
  },
  {
   "cell_type": "markdown",
   "metadata": {},
   "source": [
    "##### Se obtiene la cantidad total de datos pertenecientes a cada clase"
   ]
  },
  {
   "cell_type": "code",
   "execution_count": 5,
   "metadata": {},
   "outputs": [
    {
     "data": {
      "text/html": [
       "<div>\n",
       "<style scoped>\n",
       "    .dataframe tbody tr th:only-of-type {\n",
       "        vertical-align: middle;\n",
       "    }\n",
       "\n",
       "    .dataframe tbody tr th {\n",
       "        vertical-align: top;\n",
       "    }\n",
       "\n",
       "    .dataframe thead th {\n",
       "        text-align: right;\n",
       "    }\n",
       "</style>\n",
       "<table border=\"1\" class=\"dataframe\">\n",
       "  <thead>\n",
       "    <tr style=\"text-align: right;\">\n",
       "      <th></th>\n",
       "      <th>%genre</th>\n",
       "    </tr>\n",
       "  </thead>\n",
       "  <tbody>\n",
       "    <tr>\n",
       "      <th>jazz and blues</th>\n",
       "      <td>4334</td>\n",
       "    </tr>\n",
       "    <tr>\n",
       "      <th>soul and reggae</th>\n",
       "      <td>4016</td>\n",
       "    </tr>\n",
       "  </tbody>\n",
       "</table>\n",
       "</div>"
      ],
      "text/plain": [
       "                 %genre\n",
       "jazz and blues     4334\n",
       "soul and reggae    4016"
      ]
     },
     "execution_count": 5,
     "metadata": {},
     "output_type": "execute_result"
    }
   ],
   "source": [
    "pd.DataFrame(dataset[\"%genre\"].value_counts())"
   ]
  },
  {
   "cell_type": "markdown",
   "metadata": {},
   "source": [
    "##### Se divide la información del archivo entre etiquetas y carácteristicas"
   ]
  },
  {
   "cell_type": "code",
   "execution_count": 9,
   "metadata": {},
   "outputs": [],
   "source": [
    "y = dataset[\"%genre\"].values\n",
    "X = dataset.values[:,1:]"
   ]
  },
  {
   "cell_type": "markdown",
   "metadata": {},
   "source": [
    "##### Cómo se evidencio en entregas anteriores, es necesaria la estándarizacion de los datos"
   ]
  },
  {
   "cell_type": "code",
   "execution_count": 10,
   "metadata": {},
   "outputs": [],
   "source": [
    "from sklearn.preprocessing import StandardScaler\n",
    "\n",
    "scaler = StandardScaler()\n",
    "\n",
    "##Se estandarizan los datos provenientes del archivo\n",
    "X = scaler.fit(X).transform(X)"
   ]
  },
  {
   "cell_type": "markdown",
   "metadata": {},
   "source": [
    "##### Se dividen los datos en datos de entrenamiento y datos de prueba, tomando el 20% del total para este último fin. Antes de realizar la división, los datos son barajados"
   ]
  },
  {
   "cell_type": "code",
   "execution_count": 44,
   "metadata": {},
   "outputs": [
    {
     "name": "stdout",
     "output_type": "stream",
     "text": [
      "Datos de prueba clase jazz and blues: 879\n",
      "Datos de prueba clase soul and reggae: 791\n",
      "Total datos prueba: 1670\n"
     ]
    }
   ],
   "source": [
    "from sklearn.model_selection import train_test_split\n",
    "\n",
    "X_train, X_test, y_train, y_test = train_test_split(X, y, test_size = 0.2, random_state = 7861)\n",
    "\n",
    "genres, cantidad = np.unique(y_test, return_counts = True)\n",
    "total_test_data = sum(cantidad)\n",
    "print(\"Datos de prueba clase %s: %d\" % (genres[0],cantidad[0]))\n",
    "print(\"Datos de prueba clase %s: %d\" % (genres[1],cantidad[1]))\n",
    "print(\"Total datos prueba: %d\" % total_test_data)"
   ]
  },
  {
   "cell_type": "markdown",
   "metadata": {},
   "source": [
    "##### Se toma el 10% de los datos de entrenamiento como datos de validación, esto con el objetivo de comparar cada uno de los modelos que serán entrenados"
   ]
  },
  {
   "cell_type": "code",
   "execution_count": 45,
   "metadata": {},
   "outputs": [
    {
     "name": "stdout",
     "output_type": "stream",
     "text": [
      "Datos de entrenamiento clase jazz and blues: 3915\n",
      "Datos de entrenamiento clase soul and reggae: 3600\n",
      "Datos de validacion clase jazz and blues: 419\n",
      "Datos de validacion clase soul and reggae: 416\n"
     ]
    }
   ],
   "source": [
    "X_train, X_validation, y_train, y_validation = train_test_split(X, y, test_size = 0.1, random_state = 7861)\n",
    "\n",
    "genres, cantidad = np.unique(y_train, return_counts = True)\n",
    "print(\"Datos de entrenamiento clase %s: %d\" % (genres[0],cantidad[0]))\n",
    "print(\"Datos de entrenamiento clase %s: %d\" % (genres[1],cantidad[1]))\n",
    "\n",
    "genres, cantidad = np.unique(y_validation, return_counts = True)\n",
    "print(\"Datos de validacion clase %s: %d\" % (genres[0],cantidad[0]))\n",
    "print(\"Datos de validacion clase %s: %d\" % (genres[1],cantidad[1]))"
   ]
  },
  {
   "cell_type": "markdown",
   "metadata": {},
   "source": [
    "##### Se realiza el entrenamiento de las redes neuronales cambiando la cantidad de neuronas en la capa escondida entre 2 y el total de dimensiones del problema"
   ]
  },
  {
   "cell_type": "code",
   "execution_count": 84,
   "metadata": {},
   "outputs": [
    {
     "name": "stdout",
     "output_type": "stream",
     "text": [
      "El modelo con mejor desempeño tiene 11 neuronas en la capa oculta\n"
     ]
    }
   ],
   "source": [
    "from sklearn.neural_network import MLPClassifier\n",
    "from sklearn.metrics import log_loss\n",
    "\n",
    "dimensions = X.shape[1] + 1\n",
    "models = []\n",
    "models_log_loss = []\n",
    "\n",
    "for neurons in range(2,dimensions):\n",
    "    model = MLPClassifier(hidden_layer_sizes=(neurons),\n",
    "                         batch_size=64,\n",
    "                         max_iter=1000)\n",
    "    \n",
    "    neural_network = model.fit(X_train, y_train)\n",
    "    probabilities = neural_network.predict_proba(X_validation)\n",
    "    model_log_loss = log_loss(y_validation, probabilities)\n",
    "    \n",
    "    models_log_loss.append(model_log_loss)\n",
    "    models.append(neural_network)\n",
    "    \n",
    "best_model_position = (models_log_loss.index(min(models_log_loss)))\n",
    "best_model_neurons = best_model_position + 2\n",
    "print(\"El modelo con mejor desempeño tiene %d neuronas en la capa oculta\" % best_model_neurons)\n",
    "\n",
    "best_model = models[best_model_position]"
   ]
  },
  {
   "cell_type": "code",
   "execution_count": 85,
   "metadata": {},
   "outputs": [
    {
     "data": {
      "image/png": "[encoded data removed]",
      "text/plain": [
       "<Figure size 432x288 with 1 Axes>"
      ]
     },
     "metadata": {
      "needs_background": "light"
     },
     "output_type": "display_data"
    }
   ],
   "source": [
    "import pylab as pl\n",
    "pl.plot(range(2,dimensions), \n",
    "        models_log_loss,\n",
    "        linewidth=2,\n",
    "        label='Valor del error')\n",
    "\n",
    "pl.plot(range(2,dimensions),\n",
    "        [models_log_loss[best_model_position]] * 29,\n",
    "        linestyle = '--',\n",
    "        linewidth = 1,\n",
    "        color = 'red',\n",
    "        label = 'Mínimo valor del error')\n",
    "\n",
    "pl.xlim(2, 30)\n",
    "pl.xlabel('Número de neuronas')\n",
    "pl.ylabel('Función de error')\n",
    "pl.title('Comportamiento de la función de error')\n",
    "pl.legend()\n",
    "pl.show()"
   ]
  },
  {
   "cell_type": "markdown",
   "metadata": {},
   "source": [
    "##### Una vez obtenida la arquitectura con mejor rendimiento, se busca la función de activación que permite obtener mejores rendimientos"
   ]
  },
  {
   "cell_type": "code",
   "execution_count": 86,
   "metadata": {},
   "outputs": [
    {
     "name": "stdout",
     "output_type": "stream",
     "text": [
      "El modelo con mejor rendimiento usó relu como función de activación\n"
     ]
    }
   ],
   "source": [
    "activations = ['relu','identity', 'logistic', 'tanh']\n",
    "neurons = 11\n",
    "models_activation_log_loss = []\n",
    "\n",
    "for activation in activations:\n",
    "    model = MLPClassifier(hidden_layer_sizes=(neurons),\n",
    "                          batch_size=64,\n",
    "                          max_iter=1000,\n",
    "                          activation=activation)\n",
    "        \n",
    "    neural_network = model.fit(X_train, y_train)\n",
    "    \n",
    "    probabilities = neural_network.predict_proba(X_validation)\n",
    "    model_log_loss = log_loss(y_validation, probabilities)\n",
    "    \n",
    "    models_activation_log_loss.append(model_log_loss)\n",
    "    \n",
    "best_activation_model_position = (models_activation_log_loss.index(min(models_activation_log_loss)))\n",
    "best_activation = activations[best_activation_model_position]\n",
    "print(\"El modelo con mejor rendimiento usó %s como función de activación\" % best_activation)"
   ]
  },
  {
   "cell_type": "code",
   "execution_count": 87,
   "metadata": {},
   "outputs": [
    {
     "data": {
      "image/png": "[encoded data removed]",
      "text/plain": [
       "<Figure size 432x288 with 1 Axes>"
      ]
     },
     "metadata": {
      "needs_background": "light"
     },
     "output_type": "display_data"
    }
   ],
   "source": [
    "pl.plot(activations, \n",
    "        models_activation_log_loss,\n",
    "        linewidth=2,\n",
    "        label='Valor del error')\n",
    "\n",
    "pl.plot(activations,\n",
    "        [models_activation_log_loss[best_activation_model_position]] * 4,\n",
    "        linestyle = '--',\n",
    "        linewidth = 1,\n",
    "        color = 'red',\n",
    "        label = 'Mínimo valor de error')\n",
    "\n",
    "pl.xlabel('Funciones de activacion')\n",
    "pl.ylabel('Función de error')\n",
    "pl.title('Comportamiento de la función de error')\n",
    "pl.legend()\n",
    "pl.show()"
   ]
  },
  {
   "cell_type": "markdown",
   "metadata": {},
   "source": [
    "#### De acuerdo con los resultados anteriores, el modelo que mejor resultados tiene posee una capa escondida de 11 neuronas y emplea la función ReLU como función de activación. Se procede a probar diferentes algortimos de descenso de gradiente"
   ]
  },
  {
   "cell_type": "code",
   "execution_count": 91,
   "metadata": {},
   "outputs": [
    {
     "name": "stdout",
     "output_type": "stream",
     "text": [
      "El modelo con mejor rendimiento usó adam como algoritmo de entrenamiento\n"
     ]
    }
   ],
   "source": [
    "algorithms = ['lbfgs', 'sgd', 'adam']\n",
    "neurons = 11\n",
    "activation = 'relu'\n",
    "models_algorithms_log_loss = []\n",
    "\n",
    "for algorithm in algorithms:\n",
    "    model = MLPClassifier(hidden_layer_sizes=(neurons),\n",
    "                          batch_size=64,\n",
    "                          max_iter=2000,\n",
    "                          activation=activation,\n",
    "                          solver=algorithm)\n",
    "        \n",
    "    neural_network = model.fit(X_train, y_train)\n",
    "    \n",
    "    probabilities = neural_network.predict_proba(X_validation)\n",
    "    model_log_loss = log_loss(y_validation, probabilities)\n",
    "    \n",
    "    models_algorithms_log_loss.append(model_log_loss)\n",
    "    \n",
    "best_algorithm_model_position = (models_algorithms_log_loss.index(min(models_algorithms_log_loss)))\n",
    "best_algorithm = algorithms[best_algorithm_model_position]\n",
    "print(\"El modelo con mejor rendimiento usó %s como algoritmo de entrenamiento\" % best_algorithm)\n"
   ]
  },
  {
   "cell_type": "code",
   "execution_count": 103,
   "metadata": {},
   "outputs": [
    {
     "data": {
      "image/png": "[encoded data removed]",
      "text/plain": [
       "<Figure size 432x288 with 1 Axes>"
      ]
     },
     "metadata": {
      "needs_background": "light"
     },
     "output_type": "display_data"
    }
   ],
   "source": [
    "pl.plot(algorithms, \n",
    "        models_algorithms_log_loss,\n",
    "        linewidth=2,\n",
    "        label='Valor del error')\n",
    "\n",
    "pl.plot(algorithms,\n",
    "        [models_algorithms_log_loss[best_algorithm_model_position]] * 3,\n",
    "        linestyle = '--',\n",
    "        linewidth = 1,\n",
    "        color = 'red',\n",
    "        label = 'Mínimo valor de error')\n",
    "\n",
    "pl.xlabel('Algoritmo de aprendizaje')\n",
    "pl.ylabel('Función de error')\n",
    "pl.title('Comportamiento de la función de error')\n",
    "pl.legend()\n",
    "pl.show()"
   ]
  },
  {
   "cell_type": "code",
   "execution_count": 98,
   "metadata": {},
   "outputs": [
    {
     "name": "stdout",
     "output_type": "stream",
     "text": [
      "El modelo con mejor rendimiento usó 0.000300 como tasa de aprendizaje\n"
     ]
    }
   ],
   "source": [
    "learning_rates = [0.00001,0.00003,\n",
    "                 0.0001, 0.0003,\n",
    "                 0.001, 0.003,\n",
    "                 0.01, 0.03,\n",
    "                 0.1, 0.3,\n",
    "                 1, 3]\n",
    "algorithm = 'adam'\n",
    "models_lr_log_loss = []\n",
    "\n",
    "for learning_rate in learning_rates:\n",
    "    model = MLPClassifier(hidden_layer_sizes=(neurons),\n",
    "                          batch_size=64,\n",
    "                          activation=activation,\n",
    "                          solver=algorithm,\n",
    "                          learning_rate_init=learning_rate,\n",
    "                          max_iter=1000)\n",
    "        \n",
    "    neural_network = model.fit(X_train, y_train)\n",
    "    \n",
    "    probabilities = neural_network.predict_proba(X_validation)\n",
    "    model_log_loss = log_loss(y_validation, probabilities)\n",
    "    \n",
    "    models_lr_log_loss.append(model_log_loss)\n",
    "    \n",
    "best_lr_model_position = (models_lr_log_loss.index(min(models_lr_log_loss)))\n",
    "best_lr = learning_rates[best_lr_model_position]\n",
    "print(\"El modelo con mejor rendimiento usó %f como tasa de aprendizaje\" % best_lr)\n"
   ]
  },
  {
   "cell_type": "code",
   "execution_count": 102,
   "metadata": {},
   "outputs": [
    {
     "data": {
      "image/png": "[encoded data removed]",
      "text/plain": [
       "<Figure size 432x288 with 1 Axes>"
      ]
     },
     "metadata": {
      "needs_background": "light"
     },
     "output_type": "display_data"
    }
   ],
   "source": [
    "pl.semilogx(learning_rates, \n",
    "        models_lr_log_loss,\n",
    "        linewidth=2,\n",
    "        label='Valor del error')\n",
    "\n",
    "pl.semilogx(learning_rates,\n",
    "        [models_lr_log_loss[best_lr_model_position]] * 12,\n",
    "        linestyle = '--',\n",
    "        linewidth = 1,\n",
    "        color = 'red',\n",
    "        label = 'Mínimo valor de error')\n",
    "\n",
    "pl.xlabel('Funciones de activacion')\n",
    "pl.ylabel('Tasa de aprendizaje')\n",
    "pl.title('Comportamiento de la función de error')\n",
    "pl.legend()\n",
    "pl.xlim(min(learning_rates), max(learning_rates))\n",
    "pl.show()"
   ]
  }
 ],
 "metadata": {
  "kernelspec": {
   "display_name": "Python 3",
   "language": "python",
   "name": "python3"
  },
  "language_info": {
   "codemirror_mode": {
    "name": "ipython",
    "version": 3
   },
   "file_extension": ".py",
   "mimetype": "text/x-python",
   "name": "python",
   "nbconvert_exporter": "python",
   "pygments_lexer": "ipython3",
   "version": "3.7.6"
  }
 },
 "nbformat": 4,
 "nbformat_minor": 2
}
