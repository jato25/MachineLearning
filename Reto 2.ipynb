{
 "cells": [
  {
   "cell_type": "code",
   "execution_count": null,
   "metadata": {},
   "outputs": [],
   "source": [
    "import wget\n",
    "from zipfile import ZipFile\n",
    "\n",
    "##Se descarga el archivo del repositorio \n",
    "file = wget.download(\"http://millionsongdataset.com/sites/default/files/AdditionalFiles/msd_genre_dataset.zip\")\n",
    "\n",
    "##Se abre el archivo y se descomprime\n",
    "zpFile = ZipFile(file)\n",
    "zpFile.extractall()\n",
    "zpFile.close()"
   ]
  },
  {
   "cell_type": "code",
   "execution_count": 2,
   "metadata": {},
   "outputs": [
    {
     "data": {
      "text/html": [
       "<div>\n",
       "<style scoped>\n",
       "    .dataframe tbody tr th:only-of-type {\n",
       "        vertical-align: middle;\n",
       "    }\n",
       "\n",
       "    .dataframe tbody tr th {\n",
       "        vertical-align: top;\n",
       "    }\n",
       "\n",
       "    .dataframe thead th {\n",
       "        text-align: right;\n",
       "    }\n",
       "</style>\n",
       "<table border=\"1\" class=\"dataframe\">\n",
       "  <thead>\n",
       "    <tr style=\"text-align: right;\">\n",
       "      <th></th>\n",
       "      <th>%genre</th>\n",
       "      <th>track_id</th>\n",
       "      <th>artist_name</th>\n",
       "      <th>title</th>\n",
       "      <th>loudness</th>\n",
       "      <th>tempo</th>\n",
       "      <th>time_signature</th>\n",
       "      <th>key</th>\n",
       "      <th>mode</th>\n",
       "      <th>duration</th>\n",
       "      <th>...</th>\n",
       "      <th>var_timbre3</th>\n",
       "      <th>var_timbre4</th>\n",
       "      <th>var_timbre5</th>\n",
       "      <th>var_timbre6</th>\n",
       "      <th>var_timbre7</th>\n",
       "      <th>var_timbre8</th>\n",
       "      <th>var_timbre9</th>\n",
       "      <th>var_timbre10</th>\n",
       "      <th>var_timbre11</th>\n",
       "      <th>var_timbre12</th>\n",
       "    </tr>\n",
       "  </thead>\n",
       "  <tbody>\n",
       "    <tr>\n",
       "      <th>0</th>\n",
       "      <td>classic pop and rock</td>\n",
       "      <td>TRFCOOU128F427AEC0</td>\n",
       "      <td>Blue Oyster Cult</td>\n",
       "      <td>Mes Dames Sarat</td>\n",
       "      <td>-8.697</td>\n",
       "      <td>155.007</td>\n",
       "      <td>1</td>\n",
       "      <td>9</td>\n",
       "      <td>1</td>\n",
       "      <td>246.33424</td>\n",
       "      <td>...</td>\n",
       "      <td>1255.514569</td>\n",
       "      <td>580.030472</td>\n",
       "      <td>598.485223</td>\n",
       "      <td>575.337671</td>\n",
       "      <td>322.068603</td>\n",
       "      <td>321.726029</td>\n",
       "      <td>232.700609</td>\n",
       "      <td>186.805303</td>\n",
       "      <td>181.938688</td>\n",
       "      <td>151.508011</td>\n",
       "    </tr>\n",
       "    <tr>\n",
       "      <th>1</th>\n",
       "      <td>classic pop and rock</td>\n",
       "      <td>TRNJTPB128F427AE9F</td>\n",
       "      <td>Blue Oyster Cult</td>\n",
       "      <td>Screams</td>\n",
       "      <td>-10.659</td>\n",
       "      <td>148.462</td>\n",
       "      <td>1</td>\n",
       "      <td>4</td>\n",
       "      <td>0</td>\n",
       "      <td>189.80526</td>\n",
       "      <td>...</td>\n",
       "      <td>2007.653070</td>\n",
       "      <td>1043.474073</td>\n",
       "      <td>585.694981</td>\n",
       "      <td>564.013736</td>\n",
       "      <td>510.177022</td>\n",
       "      <td>400.200186</td>\n",
       "      <td>365.119588</td>\n",
       "      <td>238.099708</td>\n",
       "      <td>197.933757</td>\n",
       "      <td>251.577525</td>\n",
       "    </tr>\n",
       "    <tr>\n",
       "      <th>2</th>\n",
       "      <td>classic pop and rock</td>\n",
       "      <td>TRLFJHA128F427AEEA</td>\n",
       "      <td>Blue Oyster Cult</td>\n",
       "      <td>Dance The Night Away</td>\n",
       "      <td>-13.494</td>\n",
       "      <td>112.909</td>\n",
       "      <td>1</td>\n",
       "      <td>10</td>\n",
       "      <td>0</td>\n",
       "      <td>158.19710</td>\n",
       "      <td>...</td>\n",
       "      <td>1204.856777</td>\n",
       "      <td>2736.520024</td>\n",
       "      <td>730.233239</td>\n",
       "      <td>665.203452</td>\n",
       "      <td>535.775111</td>\n",
       "      <td>439.335059</td>\n",
       "      <td>486.822970</td>\n",
       "      <td>265.333860</td>\n",
       "      <td>447.097987</td>\n",
       "      <td>251.880724</td>\n",
       "    </tr>\n",
       "    <tr>\n",
       "      <th>3</th>\n",
       "      <td>classic pop and rock</td>\n",
       "      <td>TRCQZAG128F427DB97</td>\n",
       "      <td>Blue Oyster Cult</td>\n",
       "      <td>Debbie Denise</td>\n",
       "      <td>-12.786</td>\n",
       "      <td>117.429</td>\n",
       "      <td>4</td>\n",
       "      <td>7</td>\n",
       "      <td>1</td>\n",
       "      <td>250.22649</td>\n",
       "      <td>...</td>\n",
       "      <td>809.755802</td>\n",
       "      <td>563.908070</td>\n",
       "      <td>492.803819</td>\n",
       "      <td>378.382799</td>\n",
       "      <td>372.875044</td>\n",
       "      <td>231.941957</td>\n",
       "      <td>246.313305</td>\n",
       "      <td>168.400152</td>\n",
       "      <td>85.282462</td>\n",
       "      <td>339.897173</td>\n",
       "    </tr>\n",
       "    <tr>\n",
       "      <th>4</th>\n",
       "      <td>classic pop and rock</td>\n",
       "      <td>TRNXMNM128F427DB8C</td>\n",
       "      <td>Blue Oyster Cult</td>\n",
       "      <td>(Don't Fear) The Reaper</td>\n",
       "      <td>-14.093</td>\n",
       "      <td>141.536</td>\n",
       "      <td>4</td>\n",
       "      <td>9</td>\n",
       "      <td>0</td>\n",
       "      <td>307.06893</td>\n",
       "      <td>...</td>\n",
       "      <td>1093.684935</td>\n",
       "      <td>343.556047</td>\n",
       "      <td>889.163314</td>\n",
       "      <td>218.111796</td>\n",
       "      <td>304.862864</td>\n",
       "      <td>178.352161</td>\n",
       "      <td>440.478867</td>\n",
       "      <td>142.669283</td>\n",
       "      <td>81.061326</td>\n",
       "      <td>208.355152</td>\n",
       "    </tr>\n",
       "  </tbody>\n",
       "</table>\n",
       "<p>5 rows × 34 columns</p>\n",
       "</div>"
      ],
      "text/plain": [
       "                 %genre            track_id       artist_name  \\\n",
       "0  classic pop and rock  TRFCOOU128F427AEC0  Blue Oyster Cult   \n",
       "1  classic pop and rock  TRNJTPB128F427AE9F  Blue Oyster Cult   \n",
       "2  classic pop and rock  TRLFJHA128F427AEEA  Blue Oyster Cult   \n",
       "3  classic pop and rock  TRCQZAG128F427DB97  Blue Oyster Cult   \n",
       "4  classic pop and rock  TRNXMNM128F427DB8C  Blue Oyster Cult   \n",
       "\n",
       "                     title  loudness    tempo  time_signature  key  mode  \\\n",
       "0          Mes Dames Sarat    -8.697  155.007               1    9     1   \n",
       "1                  Screams   -10.659  148.462               1    4     0   \n",
       "2     Dance The Night Away   -13.494  112.909               1   10     0   \n",
       "3            Debbie Denise   -12.786  117.429               4    7     1   \n",
       "4  (Don't Fear) The Reaper   -14.093  141.536               4    9     0   \n",
       "\n",
       "    duration  ...  var_timbre3  var_timbre4  var_timbre5  var_timbre6  \\\n",
       "0  246.33424  ...  1255.514569   580.030472   598.485223   575.337671   \n",
       "1  189.80526  ...  2007.653070  1043.474073   585.694981   564.013736   \n",
       "2  158.19710  ...  1204.856777  2736.520024   730.233239   665.203452   \n",
       "3  250.22649  ...   809.755802   563.908070   492.803819   378.382799   \n",
       "4  307.06893  ...  1093.684935   343.556047   889.163314   218.111796   \n",
       "\n",
       "   var_timbre7  var_timbre8  var_timbre9  var_timbre10  var_timbre11  \\\n",
       "0   322.068603   321.726029   232.700609    186.805303    181.938688   \n",
       "1   510.177022   400.200186   365.119588    238.099708    197.933757   \n",
       "2   535.775111   439.335059   486.822970    265.333860    447.097987   \n",
       "3   372.875044   231.941957   246.313305    168.400152     85.282462   \n",
       "4   304.862864   178.352161   440.478867    142.669283     81.061326   \n",
       "\n",
       "   var_timbre12  \n",
       "0    151.508011  \n",
       "1    251.577525  \n",
       "2    251.880724  \n",
       "3    339.897173  \n",
       "4    208.355152  \n",
       "\n",
       "[5 rows x 34 columns]"
      ]
     },
     "execution_count": 2,
     "metadata": {},
     "output_type": "execute_result"
    }
   ],
   "source": [
    "import pandas as pd\n",
    "import numpy as np\n",
    "import math\n",
    "\n",
    "dataset = pd.read_csv(\"msd_genre_dataset.txt\", skiprows = range(9))\n",
    "\n",
    "dataset.dropna()\n",
    "dataset.head()"
   ]
  },
  {
   "cell_type": "code",
   "execution_count": 3,
   "metadata": {},
   "outputs": [
    {
     "data": {
      "image/png": "[encoded data removed]",
      "text/plain": [
       "<Figure size 1080x1080 with 30 Axes>"
      ]
     },
     "metadata": {
      "needs_background": "light"
     },
     "output_type": "display_data"
    }
   ],
   "source": [
    "dataset = dataset.drop(columns = [\"track_id\", \"artist_name\", \"title\"])\n",
    "features = dataset.columns.tolist()\n",
    "dataset = dataset[(dataset[\"%genre\"] == \"jazz and blues\") | (dataset[\"%genre\"] == \"soul and reggae\")]\n",
    "figure = dataset.hist(figsize=(15,15), bins = 50)"
   ]
  },
  {
   "cell_type": "code",
   "execution_count": 4,
   "metadata": {},
   "outputs": [],
   "source": [
    "y = dataset[\"%genre\"].values\n",
    "X = dataset.values[:,1:]\n",
    "X = X.astype(float)"
   ]
  },
  {
   "cell_type": "code",
   "execution_count": 5,
   "metadata": {},
   "outputs": [],
   "source": [
    "from sklearn.preprocessing import StandardScaler, LabelEncoder\n",
    "\n",
    "scaler = StandardScaler()\n",
    "lblEncoder = LabelEncoder()\n",
    "\n",
    "y = lblEncoder.fit(np.unique(y)).transform(y)\n",
    "##Se estandarizan los datos provenientes del archivo\n",
    "normalized_X = scaler.fit(X).transform(X)"
   ]
  },
  {
   "cell_type": "code",
   "execution_count": 6,
   "metadata": {},
   "outputs": [
    {
     "name": "stdout",
     "output_type": "stream",
     "text": [
      "Número de condición datos sin preprocesar: 120283529\n",
      "Número de condición datos preprocesados: 576\n"
     ]
    }
   ],
   "source": [
    "##Se agrega un vector de unos a los datos\n",
    "data_rows = normalized_X.shape[0]\n",
    "ones_vector =  np.ones([data_rows,1])\n",
    "X_ones = np.concatenate((ones_vector , normalized_X), 1)\n",
    "\n",
    "condition_number_1 = np.linalg.cond(np.matmul(X.T,X))\n",
    "condition_number_2 = np.linalg.cond(np.matmul(X_ones.T,X_ones))\n",
    "\n",
    "print(\"Número de condición datos sin preprocesar: %d\" % (condition_number_1))\n",
    "print(\"Número de condición datos preprocesados: %d\" % (condition_number_2))"
   ]
  },
  {
   "cell_type": "code",
   "execution_count": 7,
   "metadata": {},
   "outputs": [],
   "source": [
    "from sklearn.model_selection import train_test_split\n",
    "\n",
    "X_train, X_test, y_train, y_test = train_test_split(X_ones, y, test_size = 0.2, random_state = 7861) "
   ]
  },
  {
   "cell_type": "code",
   "execution_count": 8,
   "metadata": {},
   "outputs": [
    {
     "name": "stdout",
     "output_type": "stream",
     "text": [
      "Elementos de entranamiento para la clase jazz and blues: 3455\n",
      "Elementos de entranamiento para la clase soul and reggae: 3225\n"
     ]
    }
   ],
   "source": [
    "a,b = np.unique(y_train, return_counts=True)\n",
    "clase_0 = lblEncoder.inverse_transform([a[0]])[0]\n",
    "clase_1 = lblEncoder.inverse_transform([a[1]])[0]\n",
    "print(\"Elementos de entranamiento para la clase %s: %d\" % (clase_0, b[0]))\n",
    "print(\"Elementos de entranamiento para la clase %s: %d\" % (clase_1, b[1]))"
   ]
  },
  {
   "cell_type": "code",
   "execution_count": 9,
   "metadata": {},
   "outputs": [],
   "source": [
    "def sigmoid(X, w):\n",
    "    z = np.matmul(X,w)\n",
    "    y = 1/(1 + np.exp(-z))\n",
    "    return y"
   ]
  },
  {
   "cell_type": "code",
   "execution_count": 10,
   "metadata": {},
   "outputs": [],
   "source": [
    "def calculate_gradient(X, y, w):\n",
    "    \n",
    "    y_hat = sigmoid(X,w)\n",
    "    error = y - y_hat  \n",
    "    gradiente = np.matmul(error, X)\n",
    "    \n",
    "    return gradiente"
   ]
  },
  {
   "cell_type": "code",
   "execution_count": 11,
   "metadata": {},
   "outputs": [],
   "source": [
    "def splitBatches(X, y, batch_size):\n",
    "    ## Se obtiene el número total de datos\n",
    "    m = X.shape[0]\n",
    "    \n",
    "    ##Se calcula la cantidad total de lotes\n",
    "    batches = math.ceil(m/batch_size)\n",
    "    \n",
    "    ##Se mezclan aleatoriamente los datos\n",
    "    np.random.seed(None)\n",
    "    data = np.c_[X,y]\n",
    "    np.random.shuffle(data)\n",
    "\n",
    "    X_batches = []\n",
    "    y_batches = []\n",
    "    \n",
    "    for i in range(batches):\n",
    "        \n",
    "        ##Se toman subconjuntos de datos con el tamaño especificado \n",
    "        X_batch = data[0:batch_size,:-1]\n",
    "        X_batches.append(X_batch)\n",
    "                \n",
    "        y_batch = data[0:batch_size,-1]\n",
    "        y_batches.append(y_batch)\n",
    "        \n",
    "        data = data[batch_size:,:]\n",
    "        \n",
    "    return X_batches, y_batches"
   ]
  },
  {
   "cell_type": "code",
   "execution_count": 15,
   "metadata": {},
   "outputs": [],
   "source": [
    "def model_train(X, y, batch_size = 1, epocs = 5, learning_rate = 0.0001, tol = 1e-4):\n",
    "    \n",
    "    ##Se define el número de parámetros a entrenar\n",
    "    n = X.shape[1]\n",
    "    \n",
    "    ##Se inicializan los parámetros a entrenar\n",
    "    np.random.seed(7861)\n",
    "    w_0 = np.random.rand(n)\n",
    "    \n",
    "    ##Se inicializa el error en un valor arbitrario\n",
    "    actual_error = 2    \n",
    "    \n",
    "    for epoc in range(epocs):\n",
    "        \n",
    "        ##Se dividen los datos en lotes al inicio de cada época\n",
    "        ##se realiza este procedimiento antes de cada época para \n",
    "        ##garantizar que los datos estén barajados de forma distinta\n",
    "        ##en cada recorrido\n",
    "        X_batches, y_batches = splitBatches(X, y, batch_size)\n",
    "        \n",
    "        for X_batch, y_batch in zip(X_batches, y_batches):\n",
    "            \n",
    "            ##Para cada lote, se realiza el cálculo del gradiente y\n",
    "            ##la actualización de los pesos\n",
    "            w = calculate_gradient(X_batch, y_batch, w_0)                  \n",
    "            w_0 = w_0 + learning_rate * w\n",
    "        \n",
    "        ##Se calcula el error al final de cada recorrido por los datos\n",
    "        previous_error = actual_error\n",
    "        actual_error = cross_entropy(X, y, w_0)\n",
    "        \n",
    "        ##Se imprime el valor del error cada 100 épocas\n",
    "        if (epoc % 100 == 0):     \n",
    "            print(\"Epoc %d error: %.4f\" % (epoc,actual_error))\n",
    "            \n",
    "        ##Se verifica que el cambio del error no sea menor a la toleracia\n",
    "        ##cada 20 épocas\n",
    "        if (epoc % 20 == 0 and np.abs(previous_error - actual_error) < tol):\n",
    "            break\n",
    "         \n",
    "    ##Se reporta el error del modelo completamente entrenado\n",
    "    print(\"Model error : %.4f\" % (actual_error))\n",
    "    return w_0"
   ]
  },
  {
   "cell_type": "code",
   "execution_count": 16,
   "metadata": {},
   "outputs": [],
   "source": [
    "def cross_entropy(X, y, w):\n",
    "    y_hat = sigmoid(X, w)\n",
    "    error_vector = np.multiply(y, np.log(y_hat)) + np.multiply(1-y, np.log(1-y_hat))\n",
    "    error = np.sum(error_vector)\n",
    "    return error"
   ]
  },
  {
   "cell_type": "code",
   "execution_count": 20,
   "metadata": {},
   "outputs": [
    {
     "name": "stdout",
     "output_type": "stream",
     "text": [
      "Epoc 0 error: -5224.2614\n",
      "Epoc 100 error: -2445.7367\n",
      "Epoc 200 error: -2442.9533\n",
      "Epoc 300 error: -2441.5211\n",
      "Epoc 400 error: -2440.6368\n",
      "Epoc 500 error: -2440.0066\n",
      "Epoc 600 error: -2439.6219\n",
      "Epoc 700 error: -2439.4547\n",
      "Epoc 800 error: -2439.3261\n",
      "Epoc 900 error: -2438.9944\n",
      "Epoc 1000 error: -2438.9143\n",
      "Epoc 1100 error: -2438.9895\n",
      "Epoc 1200 error: -2438.9349\n",
      "Epoc 1300 error: -2438.7857\n",
      "Epoc 1400 error: -2438.7860\n",
      "Epoc 1500 error: -2438.7743\n",
      "Epoc 1600 error: -2438.7393\n",
      "Epoc 1700 error: -2438.9808\n",
      "Epoc 1800 error: -2438.9224\n",
      "Epoc 1900 error: -2439.0142\n",
      "Model error : -2438.7325\n"
     ]
    }
   ],
   "source": [
    "W = model_train(X_train, y_train, batch_size = 100, learning_rate=0.0003, epocs = 2000, tol = 1e-6)"
   ]
  },
  {
   "cell_type": "code",
   "execution_count": 51,
   "metadata": {},
   "outputs": [
    {
     "data": {
      "text/html": [
       "<div>\n",
       "<style scoped>\n",
       "    .dataframe tbody tr th:only-of-type {\n",
       "        vertical-align: middle;\n",
       "    }\n",
       "\n",
       "    .dataframe tbody tr th {\n",
       "        vertical-align: top;\n",
       "    }\n",
       "\n",
       "    .dataframe thead th {\n",
       "        text-align: right;\n",
       "    }\n",
       "</style>\n",
       "<table border=\"1\" class=\"dataframe\">\n",
       "  <thead>\n",
       "    <tr style=\"text-align: right;\">\n",
       "      <th></th>\n",
       "      <th>Porcentaje de datos</th>\n",
       "      <th>Precisión</th>\n",
       "      <th>Recall</th>\n",
       "      <th>F1</th>\n",
       "      <th>Log loss</th>\n",
       "    </tr>\n",
       "  </thead>\n",
       "  <tbody>\n",
       "    <tr>\n",
       "      <th>0</th>\n",
       "      <td>Librería</td>\n",
       "      <td>0.818182</td>\n",
       "      <td>0.830594</td>\n",
       "      <td>0.824341</td>\n",
       "      <td>0.390670</td>\n",
       "    </tr>\n",
       "    <tr>\n",
       "      <th>1</th>\n",
       "      <td>Gradiente estocástico</td>\n",
       "      <td>0.818182</td>\n",
       "      <td>0.830594</td>\n",
       "      <td>0.824341</td>\n",
       "      <td>0.390778</td>\n",
       "    </tr>\n",
       "  </tbody>\n",
       "</table>\n",
       "</div>"
      ],
      "text/plain": [
       "     Porcentaje de datos  Precisión    Recall        F1  Log loss\n",
       "0               Librería   0.818182  0.830594  0.824341  0.390670\n",
       "1  Gradiente estocástico   0.818182  0.830594  0.824341  0.390778"
      ]
     },
     "execution_count": 51,
     "metadata": {},
     "output_type": "execute_result"
    }
   ],
   "source": [
    "from sklearn.linear_model import LogisticRegression\n",
    "logRegression = LogisticRegression().fit(X_train[:,1:], y_train)\n",
    "\n",
    "y_hat_sk = logRegression.predict(X_test[:,1:])\n",
    "y_hat_GE = np.round(sigmoid(X_test, W))\n",
    "\n",
    "f1_score_list = [f1_score(y_test, y_hat_sk),\n",
    "                f1_score(y_test, y_hat_GE)]\n",
    "precision_list = [precision_score(y_test, y_hat_sk),\n",
    "                 precision_score(y_test, y_hat_GE)]\n",
    "recall_list = [recall_score(y_test, y_hat_sk),\n",
    "              recall_score(y_test, y_hat_GE)]\n",
    "\n",
    "prob_sk = logRegression.predict_proba(X_test[:,1:])\n",
    "prob_GE = sigmoid(X_test, W)\n",
    "\n",
    "log_loss_list = [log_loss(y_test, prob_sk),\n",
    "                log_loss(y_test, prob_GE)]\n",
    "\n",
    "model_results = pd.DataFrame({\n",
    "    \"Porcentaje de datos\" : [\"Librería\", \"Gradiente estocástico\"],    \n",
    "    \"Precisión\" : precision_list,\n",
    "    \"Recall\" : recall_list,\n",
    "    \"F1\" : f1_score_list,\n",
    "    \"Log loss\" : log_loss_list   \n",
    "})\n",
    "\n",
    "model_results"
   ]
  },
  {
   "cell_type": "code",
   "execution_count": 37,
   "metadata": {},
   "outputs": [
    {
     "data": {
      "text/plain": [
       "array([[733, 146],\n",
       "       [134, 657]], dtype=int64)"
      ]
     },
     "execution_count": 37,
     "metadata": {},
     "output_type": "execute_result"
    }
   ],
   "source": [
    "from sklearn.metrics import f1_score, precision_score, recall_score, confusion_matrix, log_loss\n",
    "confusion_matrix(y_test, y_hat_GE)"
   ]
  },
  {
   "cell_type": "code",
   "execution_count": 38,
   "metadata": {},
   "outputs": [
    {
     "data": {
      "text/plain": [
       "array([[733, 146],\n",
       "       [134, 657]], dtype=int64)"
      ]
     },
     "execution_count": 38,
     "metadata": {},
     "output_type": "execute_result"
    }
   ],
   "source": [
    "confusion_matrix(y_test, y_hat_sk)"
   ]
  },
  {
   "cell_type": "code",
   "execution_count": 59,
   "metadata": {},
   "outputs": [
    {
     "data": {
      "text/plain": [
       "array([[ 1.17319665,  0.00523208,  0.02554028,  0.01061036, -0.06035642,\n",
       "        -0.64780003, -0.24082088,  0.64916219, -0.37545081,  0.35944598,\n",
       "         0.177281  ,  0.54670164,  0.2345582 , -0.081816  ,  0.31419726,\n",
       "        -0.11613311, -0.25294045, -0.13007418, -0.10219778, -0.7505917 ,\n",
       "        -0.4674491 ,  0.19360642,  0.79454422, -0.45273506,  0.31263954,\n",
       "         0.50572536,  0.03808219, -0.06793983,  0.25678458, -0.38452919]])"
      ]
     },
     "execution_count": 59,
     "metadata": {},
     "output_type": "execute_result"
    }
   ],
   "source": [
    "logRegression.coef_"
   ]
  },
  {
   "cell_type": "code",
   "execution_count": 60,
   "metadata": {},
   "outputs": [
    {
     "data": {
      "text/plain": [
       "array([ 1.2515245 ,  0.00619962,  0.02393391,  0.00998879, -0.0592941 ,\n",
       "       -0.65131659, -0.32083338,  0.65125535, -0.37392193,  0.36073999,\n",
       "        0.17666994,  0.55220708,  0.23492944, -0.08140874,  0.31601902,\n",
       "       -0.11794309, -0.25433855, -0.12959976, -0.1120375 , -0.75493996,\n",
       "       -0.46980526,  0.18967339,  0.79796565, -0.46518466,  0.31271511,\n",
       "        0.51032753,  0.03784924, -0.06902892,  0.25937408, -0.38620916])"
      ]
     },
     "execution_count": 60,
     "metadata": {},
     "output_type": "execute_result"
    }
   ],
   "source": [
    "W[1:]"
   ]
  },
  {
   "cell_type": "code",
   "execution_count": null,
   "metadata": {},
   "outputs": [],
   "source": []
  }
 ],
 "metadata": {
  "kernelspec": {
   "display_name": "Python 3",
   "language": "python",
   "name": "python3"
  },
  "language_info": {
   "codemirror_mode": {
    "name": "ipython",
    "version": 3
   },
   "file_extension": ".py",
   "mimetype": "text/x-python",
   "name": "python",
   "nbconvert_exporter": "python",
   "pygments_lexer": "ipython3",
   "version": "3.7.6"
  }
 },
 "nbformat": 4,
 "nbformat_minor": 2
}
