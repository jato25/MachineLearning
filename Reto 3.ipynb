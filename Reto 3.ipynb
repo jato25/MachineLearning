{
 "cells": [
  {
   "cell_type": "markdown",
   "metadata": {},
   "source": [
    "# Predicción calidad del vino\n",
    "\n",
    "#### Javier Andrés Téllez Ortiz - 201617861"
   ]
  },
  {
   "cell_type": "code",
   "execution_count": 1,
   "metadata": {},
   "outputs": [
    {
     "name": "stdout",
     "output_type": "stream",
     "text": [
      "Requirement already satisfied: wget in d:\\programas\\anaconda3\\lib\\site-packages (3.2)\n",
      "Note: you may need to restart the kernel to use updated packages.\n"
     ]
    }
   ],
   "source": [
    "pip install wget"
   ]
  },
  {
   "cell_type": "markdown",
   "metadata": {},
   "source": [
    "Incialmente, se descarga el dataset y se descomprime"
   ]
  },
  {
   "cell_type": "code",
   "execution_count": 1,
   "metadata": {},
   "outputs": [
    {
     "name": "stdout",
     "output_type": "stream",
     "text": [
      "100% [..............................................................................] 96005 / 96005"
     ]
    }
   ],
   "source": [
    "import wget\n",
    "from zipfile import ZipFile\n",
    "\n",
    "##Se descarga el archivo del repositorio \n",
    "file = wget.download(\"http://www3.dsi.uminho.pt/pcortez/wine/winequality.zip\")\n",
    "\n",
    "##Se abre el archivo y se descomprime\n",
    "zpFile = ZipFile(file)\n",
    "zpFile.extractall()\n",
    "zpFile.close()"
   ]
  },
  {
   "cell_type": "markdown",
   "metadata": {},
   "source": [
    "Se abre el archivo .csv y se analiza el tipo de datos obtenidos"
   ]
  },
  {
   "cell_type": "code",
   "execution_count": 2,
   "metadata": {},
   "outputs": [
    {
     "data": {
      "text/html": [
       "<div>\n",
       "<style scoped>\n",
       "    .dataframe tbody tr th:only-of-type {\n",
       "        vertical-align: middle;\n",
       "    }\n",
       "\n",
       "    .dataframe tbody tr th {\n",
       "        vertical-align: top;\n",
       "    }\n",
       "\n",
       "    .dataframe thead th {\n",
       "        text-align: right;\n",
       "    }\n",
       "</style>\n",
       "<table border=\"1\" class=\"dataframe\">\n",
       "  <thead>\n",
       "    <tr style=\"text-align: right;\">\n",
       "      <th></th>\n",
       "      <th>fixed acidity</th>\n",
       "      <th>volatile acidity</th>\n",
       "      <th>citric acid</th>\n",
       "      <th>residual sugar</th>\n",
       "      <th>chlorides</th>\n",
       "      <th>free sulfur dioxide</th>\n",
       "      <th>total sulfur dioxide</th>\n",
       "      <th>density</th>\n",
       "      <th>pH</th>\n",
       "      <th>sulphates</th>\n",
       "      <th>alcohol</th>\n",
       "      <th>quality</th>\n",
       "    </tr>\n",
       "  </thead>\n",
       "  <tbody>\n",
       "    <tr>\n",
       "      <th>0</th>\n",
       "      <td>7.0</td>\n",
       "      <td>0.27</td>\n",
       "      <td>0.36</td>\n",
       "      <td>20.7</td>\n",
       "      <td>0.045</td>\n",
       "      <td>45.0</td>\n",
       "      <td>170.0</td>\n",
       "      <td>1.0010</td>\n",
       "      <td>3.00</td>\n",
       "      <td>0.45</td>\n",
       "      <td>8.8</td>\n",
       "      <td>6</td>\n",
       "    </tr>\n",
       "    <tr>\n",
       "      <th>1</th>\n",
       "      <td>6.3</td>\n",
       "      <td>0.30</td>\n",
       "      <td>0.34</td>\n",
       "      <td>1.6</td>\n",
       "      <td>0.049</td>\n",
       "      <td>14.0</td>\n",
       "      <td>132.0</td>\n",
       "      <td>0.9940</td>\n",
       "      <td>3.30</td>\n",
       "      <td>0.49</td>\n",
       "      <td>9.5</td>\n",
       "      <td>6</td>\n",
       "    </tr>\n",
       "    <tr>\n",
       "      <th>2</th>\n",
       "      <td>8.1</td>\n",
       "      <td>0.28</td>\n",
       "      <td>0.40</td>\n",
       "      <td>6.9</td>\n",
       "      <td>0.050</td>\n",
       "      <td>30.0</td>\n",
       "      <td>97.0</td>\n",
       "      <td>0.9951</td>\n",
       "      <td>3.26</td>\n",
       "      <td>0.44</td>\n",
       "      <td>10.1</td>\n",
       "      <td>6</td>\n",
       "    </tr>\n",
       "    <tr>\n",
       "      <th>3</th>\n",
       "      <td>7.2</td>\n",
       "      <td>0.23</td>\n",
       "      <td>0.32</td>\n",
       "      <td>8.5</td>\n",
       "      <td>0.058</td>\n",
       "      <td>47.0</td>\n",
       "      <td>186.0</td>\n",
       "      <td>0.9956</td>\n",
       "      <td>3.19</td>\n",
       "      <td>0.40</td>\n",
       "      <td>9.9</td>\n",
       "      <td>6</td>\n",
       "    </tr>\n",
       "    <tr>\n",
       "      <th>4</th>\n",
       "      <td>7.2</td>\n",
       "      <td>0.23</td>\n",
       "      <td>0.32</td>\n",
       "      <td>8.5</td>\n",
       "      <td>0.058</td>\n",
       "      <td>47.0</td>\n",
       "      <td>186.0</td>\n",
       "      <td>0.9956</td>\n",
       "      <td>3.19</td>\n",
       "      <td>0.40</td>\n",
       "      <td>9.9</td>\n",
       "      <td>6</td>\n",
       "    </tr>\n",
       "  </tbody>\n",
       "</table>\n",
       "</div>"
      ],
      "text/plain": [
       "   fixed acidity  volatile acidity  citric acid  residual sugar  chlorides  \\\n",
       "0            7.0              0.27         0.36            20.7      0.045   \n",
       "1            6.3              0.30         0.34             1.6      0.049   \n",
       "2            8.1              0.28         0.40             6.9      0.050   \n",
       "3            7.2              0.23         0.32             8.5      0.058   \n",
       "4            7.2              0.23         0.32             8.5      0.058   \n",
       "\n",
       "   free sulfur dioxide  total sulfur dioxide  density    pH  sulphates  \\\n",
       "0                 45.0                 170.0   1.0010  3.00       0.45   \n",
       "1                 14.0                 132.0   0.9940  3.30       0.49   \n",
       "2                 30.0                  97.0   0.9951  3.26       0.44   \n",
       "3                 47.0                 186.0   0.9956  3.19       0.40   \n",
       "4                 47.0                 186.0   0.9956  3.19       0.40   \n",
       "\n",
       "   alcohol  quality  \n",
       "0      8.8        6  \n",
       "1      9.5        6  \n",
       "2     10.1        6  \n",
       "3      9.9        6  \n",
       "4      9.9        6  "
      ]
     },
     "execution_count": 2,
     "metadata": {},
     "output_type": "execute_result"
    }
   ],
   "source": [
    "import pandas as pd\n",
    "\n",
    "##Se abre el archivo con más datos disponibles\n",
    "dataframe = pd.read_csv(\"winequality/winequality-white.csv\", delimiter = \";\")\n",
    "\n",
    "##Se muestra la composición de los datos\n",
    "dataframe.head()"
   ]
  },
  {
   "cell_type": "markdown",
   "metadata": {},
   "source": [
    "Todas las características son numéricas y se tienen 11 diferentes variables para cada muestra. Se eliminan las muestras con algún dato faltante:"
   ]
  },
  {
   "cell_type": "code",
   "execution_count": 7,
   "metadata": {},
   "outputs": [
    {
     "name": "stdout",
     "output_type": "stream",
     "text": [
      "Cantidad de datos antes de eliminar faltantes: 4898\n",
      "Cantidad de datos disponibles: 4898\n"
     ]
    }
   ],
   "source": [
    "print(\"Cantidad de datos antes de eliminar faltantes: %d\" % dataframe.shape[0])\n",
    "\n",
    "##Se eliminan los datos con alguna caracteristica faltante\n",
    "dataframe.dropna()\n",
    "print(\"Cantidad de datos disponibles: %d\" % dataframe.shape[0])\n"
   ]
  },
  {
   "cell_type": "markdown",
   "metadata": {},
   "source": [
    "Se generan los histogramas correspondientes a cada característica. Se evidencia que la distribución de algunas carácteristicas no se aproxima adecuadamente a una distribución normal."
   ]
  },
  {
   "cell_type": "code",
   "execution_count": 4,
   "metadata": {},
   "outputs": [
    {
     "data": {
      "text/plain": [
       "array([[ 7.  ,  0.27,  0.36, ...,  3.  ,  0.45,  8.8 ],\n",
       "       [ 6.3 ,  0.3 ,  0.34, ...,  3.3 ,  0.49,  9.5 ],\n",
       "       [ 8.1 ,  0.28,  0.4 , ...,  3.26,  0.44, 10.1 ],\n",
       "       ...,\n",
       "       [ 6.5 ,  0.24,  0.19, ...,  2.99,  0.46,  9.4 ],\n",
       "       [ 5.5 ,  0.29,  0.3 , ...,  3.34,  0.38, 12.8 ],\n",
       "       [ 6.  ,  0.21,  0.38, ...,  3.26,  0.32, 11.8 ]])"
      ]
     },
     "execution_count": 4,
     "metadata": {},
     "output_type": "execute_result"
    }
   ],
   "source": [
    "##Se obtienen los nombres de los parámetros del modelo del dataset\n",
    "features = dataframe.columns.tolist()\n",
    "\n",
    "##Se obtienen los valores y se dividen entre datos y objetivos\n",
    "values = dataframe.values\n",
    "\n",
    "y = values[:,-1]\n",
    "X = values[:,0:-1]\n",
    "\n",
    "##Se genera un histograma para cada caracteristica\n",
    "##figure = dataframe.hist(figsize=(15,15), bins=50)\n",
    "X"
   ]
  },
  {
   "cell_type": "markdown",
   "metadata": {},
   "source": [
    "Con el objetivo de evidenciar el impacto que tiene sobre el modelo la estandarización de los datos, se hará el proceso tanto con los datos \"crudos\" y los datos preprocesados"
   ]
  },
  {
   "cell_type": "code",
   "execution_count": 77,
   "metadata": {},
   "outputs": [],
   "source": [
    "from sklearn.preprocessing import StandardScaler\n",
    "\n",
    "scaler = StandardScaler()\n",
    "\n",
    "##Se estandarizan los datos provenientes del archivo\n",
    "normalized_values = scaler.fit(values).transform(values)\n",
    "\n",
    "##Se dividen entre datos y objetivos\n",
    "normalized_y = normalized_values[:,-1]\n",
    "normalized_X = normalized_values[:,0:-1]"
   ]
  },
  {
   "cell_type": "markdown",
   "metadata": {},
   "source": [
    "Se dividen los datos entre conjuntos de prueba y de entrenamiento"
   ]
  },
  {
   "cell_type": "code",
   "execution_count": 78,
   "metadata": {},
   "outputs": [
    {
     "name": "stdout",
     "output_type": "stream",
     "text": [
      "Tamaño conjunto de prueba: 2000\n"
     ]
    }
   ],
   "source": [
    "from sklearn.model_selection import train_test_split\n",
    "\n",
    "##Se dividen aleatoriamente los datos entre prueba y entrenamiento para ambos casos\n",
    "X_train, X_test, y_train, y_test = train_test_split(X, y, test_size = 0.4083, random_state = 7861)\n",
    "\n",
    "X_train_std, X_test_std, y_train_std, y_test_std = train_test_split(normalized_X, normalized_y,\n",
    "                                                                    test_size = 0.4083, random_state = 7861) \n",
    "\n",
    "print(\"Tamaño conjunto de prueba: %d\" % y_test.size)"
   ]
  },
  {
   "cell_type": "markdown",
   "metadata": {},
   "source": [
    "Se procede a entrenar el modelo con los diferentes tamaños del conjunto con este fin:"
   ]
  },
  {
   "cell_type": "code",
   "execution_count": 137,
   "metadata": {},
   "outputs": [],
   "source": [
    "from sklearn.linear_model import LinearRegression\n",
    "\n",
    "#Se entrena el modelo con 100 datos\n",
    "regression_100 = LinearRegression().fit(X_train[0:101], y_train[0:101])\n",
    "regression_100_std = LinearRegression().fit(X_train_std[0:101], y_train_std[0:101])\n",
    "\n",
    "#Se entrena el modelo con 1000 datos\n",
    "regression_1000 = LinearRegression().fit(X_train[0:1001], y_train[0:1001])\n",
    "regression_1000_std = LinearRegression().fit(X_train_std[0:1001], y_train_std[0:1001])\n",
    "\n",
    "#Se entrena el modelo con 2898 datos\n",
    "regression = LinearRegression().fit(X_train, y_train)\n",
    "regression_std = LinearRegression().fit(X_train_std, y_train_std)"
   ]
  },
  {
   "cell_type": "markdown",
   "metadata": {},
   "source": [
    "Se imprimen los coeficientes para las diferentes características de las muestras. Se evidencia la diferencia que existe entre los coeficientes para los modelos entrenados con preprocesamiento y sin preprocesamiento"
   ]
  },
  {
   "cell_type": "code",
   "execution_count": 138,
   "metadata": {},
   "outputs": [
    {
     "data": {
      "text/html": [
       "<div>\n",
       "<style scoped>\n",
       "    .dataframe tbody tr th:only-of-type {\n",
       "        vertical-align: middle;\n",
       "    }\n",
       "\n",
       "    .dataframe tbody tr th {\n",
       "        vertical-align: top;\n",
       "    }\n",
       "\n",
       "    .dataframe thead th {\n",
       "        text-align: right;\n",
       "    }\n",
       "</style>\n",
       "<table border=\"1\" class=\"dataframe\">\n",
       "  <thead>\n",
       "    <tr style=\"text-align: right;\">\n",
       "      <th></th>\n",
       "      <th>Característica</th>\n",
       "      <th>100</th>\n",
       "      <th>1000</th>\n",
       "      <th>2898</th>\n",
       "      <th>100 (std)</th>\n",
       "      <th>1000 (std)</th>\n",
       "      <th>2898 (std)</th>\n",
       "    </tr>\n",
       "  </thead>\n",
       "  <tbody>\n",
       "    <tr>\n",
       "      <th>0</th>\n",
       "      <td>fixed acidity</td>\n",
       "      <td>0.313415</td>\n",
       "      <td>0.085306</td>\n",
       "      <td>0.035540</td>\n",
       "      <td>0.298633</td>\n",
       "      <td>0.081283</td>\n",
       "      <td>0.033863</td>\n",
       "    </tr>\n",
       "    <tr>\n",
       "      <th>1</th>\n",
       "      <td>volatile acidity</td>\n",
       "      <td>-2.180485</td>\n",
       "      <td>-1.949464</td>\n",
       "      <td>-1.982060</td>\n",
       "      <td>-0.248161</td>\n",
       "      <td>-0.221869</td>\n",
       "      <td>-0.225578</td>\n",
       "    </tr>\n",
       "    <tr>\n",
       "      <th>2</th>\n",
       "      <td>citric acid</td>\n",
       "      <td>-0.640552</td>\n",
       "      <td>0.241144</td>\n",
       "      <td>0.025404</td>\n",
       "      <td>-0.087529</td>\n",
       "      <td>0.032952</td>\n",
       "      <td>0.003471</td>\n",
       "    </tr>\n",
       "    <tr>\n",
       "      <th>3</th>\n",
       "      <td>residual sugar</td>\n",
       "      <td>0.103425</td>\n",
       "      <td>0.094544</td>\n",
       "      <td>0.073473</td>\n",
       "      <td>0.592315</td>\n",
       "      <td>0.541452</td>\n",
       "      <td>0.420781</td>\n",
       "    </tr>\n",
       "    <tr>\n",
       "      <th>4</th>\n",
       "      <td>chlorides</td>\n",
       "      <td>-0.352402</td>\n",
       "      <td>-0.459678</td>\n",
       "      <td>-0.570381</td>\n",
       "      <td>-0.008693</td>\n",
       "      <td>-0.011340</td>\n",
       "      <td>-0.014071</td>\n",
       "    </tr>\n",
       "    <tr>\n",
       "      <th>5</th>\n",
       "      <td>free sulfur dioxide</td>\n",
       "      <td>0.000093</td>\n",
       "      <td>0.004553</td>\n",
       "      <td>0.004613</td>\n",
       "      <td>0.001787</td>\n",
       "      <td>0.087438</td>\n",
       "      <td>0.088576</td>\n",
       "    </tr>\n",
       "    <tr>\n",
       "      <th>6</th>\n",
       "      <td>total sulfur dioxide</td>\n",
       "      <td>-0.004003</td>\n",
       "      <td>-0.000753</td>\n",
       "      <td>-0.000434</td>\n",
       "      <td>-0.192101</td>\n",
       "      <td>-0.036126</td>\n",
       "      <td>-0.020836</td>\n",
       "    </tr>\n",
       "    <tr>\n",
       "      <th>7</th>\n",
       "      <td>density</td>\n",
       "      <td>-186.515654</td>\n",
       "      <td>-188.354342</td>\n",
       "      <td>-121.624636</td>\n",
       "      <td>-0.629886</td>\n",
       "      <td>-0.636095</td>\n",
       "      <td>-0.410741</td>\n",
       "    </tr>\n",
       "    <tr>\n",
       "      <th>8</th>\n",
       "      <td>pH</td>\n",
       "      <td>1.219749</td>\n",
       "      <td>0.829820</td>\n",
       "      <td>0.574898</td>\n",
       "      <td>0.207966</td>\n",
       "      <td>0.141484</td>\n",
       "      <td>0.098020</td>\n",
       "    </tr>\n",
       "    <tr>\n",
       "      <th>9</th>\n",
       "      <td>sulphates</td>\n",
       "      <td>1.019677</td>\n",
       "      <td>0.678611</td>\n",
       "      <td>0.517718</td>\n",
       "      <td>0.131398</td>\n",
       "      <td>0.087448</td>\n",
       "      <td>0.066715</td>\n",
       "    </tr>\n",
       "    <tr>\n",
       "      <th>10</th>\n",
       "      <td>alcohol</td>\n",
       "      <td>0.119353</td>\n",
       "      <td>0.148273</td>\n",
       "      <td>0.238574</td>\n",
       "      <td>0.165844</td>\n",
       "      <td>0.206030</td>\n",
       "      <td>0.331506</td>\n",
       "    </tr>\n",
       "  </tbody>\n",
       "</table>\n",
       "</div>"
      ],
      "text/plain": [
       "          Característica         100        1000        2898  100 (std)  \\\n",
       "0          fixed acidity    0.313415    0.085306    0.035540   0.298633   \n",
       "1       volatile acidity   -2.180485   -1.949464   -1.982060  -0.248161   \n",
       "2            citric acid   -0.640552    0.241144    0.025404  -0.087529   \n",
       "3         residual sugar    0.103425    0.094544    0.073473   0.592315   \n",
       "4              chlorides   -0.352402   -0.459678   -0.570381  -0.008693   \n",
       "5    free sulfur dioxide    0.000093    0.004553    0.004613   0.001787   \n",
       "6   total sulfur dioxide   -0.004003   -0.000753   -0.000434  -0.192101   \n",
       "7                density -186.515654 -188.354342 -121.624636  -0.629886   \n",
       "8                     pH    1.219749    0.829820    0.574898   0.207966   \n",
       "9              sulphates    1.019677    0.678611    0.517718   0.131398   \n",
       "10               alcohol    0.119353    0.148273    0.238574   0.165844   \n",
       "\n",
       "    1000 (std)  2898 (std)  \n",
       "0     0.081283    0.033863  \n",
       "1    -0.221869   -0.225578  \n",
       "2     0.032952    0.003471  \n",
       "3     0.541452    0.420781  \n",
       "4    -0.011340   -0.014071  \n",
       "5     0.087438    0.088576  \n",
       "6    -0.036126   -0.020836  \n",
       "7    -0.636095   -0.410741  \n",
       "8     0.141484    0.098020  \n",
       "9     0.087448    0.066715  \n",
       "10    0.206030    0.331506  "
      ]
     },
     "execution_count": 138,
     "metadata": {},
     "output_type": "execute_result"
    }
   ],
   "source": [
    "regression_model = pd.DataFrame({\"Característica\" : features[0:-1],\n",
    "                                \"100\" : regression_100.coef_,\n",
    "                                \"1000\" : regression_1000.coef_ ,\n",
    "                                \"2898\" : regression.coef_ ,\n",
    "                                \"100 (std)\" : regression_100_std.coef_,\n",
    "                                \"1000 (std)\" : regression_1000_std.coef_ ,\n",
    "                                \"2898 (std)\" : regression_std.coef_ \n",
    "                                })\n",
    "\n",
    "regression_model"
   ]
  },
  {
   "cell_type": "markdown",
   "metadata": {},
   "source": [
    "Se prueba cada uno de los modelos obtenidos con el conjunto de prueba correspondiente"
   ]
  },
  {
   "cell_type": "code",
   "execution_count": 140,
   "metadata": {},
   "outputs": [
    {
     "data": {
      "text/html": [
       "<div>\n",
       "<style scoped>\n",
       "    .dataframe tbody tr th:only-of-type {\n",
       "        vertical-align: middle;\n",
       "    }\n",
       "\n",
       "    .dataframe tbody tr th {\n",
       "        vertical-align: top;\n",
       "    }\n",
       "\n",
       "    .dataframe thead th {\n",
       "        text-align: right;\n",
       "    }\n",
       "</style>\n",
       "<table border=\"1\" class=\"dataframe\">\n",
       "  <thead>\n",
       "    <tr style=\"text-align: right;\">\n",
       "      <th></th>\n",
       "      <th>Número de datos</th>\n",
       "      <th>Error medio</th>\n",
       "      <th>Error cuadrático medio</th>\n",
       "      <th>R2</th>\n",
       "    </tr>\n",
       "  </thead>\n",
       "  <tbody>\n",
       "    <tr>\n",
       "      <th>0</th>\n",
       "      <td>100</td>\n",
       "      <td>0.625835</td>\n",
       "      <td>0.648353</td>\n",
       "      <td>0.182089</td>\n",
       "    </tr>\n",
       "    <tr>\n",
       "      <th>1</th>\n",
       "      <td>1000</td>\n",
       "      <td>0.595224</td>\n",
       "      <td>0.590997</td>\n",
       "      <td>0.254445</td>\n",
       "    </tr>\n",
       "    <tr>\n",
       "      <th>2</th>\n",
       "      <td>2898</td>\n",
       "      <td>0.596128</td>\n",
       "      <td>0.592829</td>\n",
       "      <td>0.252133</td>\n",
       "    </tr>\n",
       "    <tr>\n",
       "      <th>3</th>\n",
       "      <td>100(std)</td>\n",
       "      <td>0.706721</td>\n",
       "      <td>0.826774</td>\n",
       "      <td>0.182089</td>\n",
       "    </tr>\n",
       "    <tr>\n",
       "      <th>4</th>\n",
       "      <td>1000(std)</td>\n",
       "      <td>0.672153</td>\n",
       "      <td>0.753635</td>\n",
       "      <td>0.254445</td>\n",
       "    </tr>\n",
       "    <tr>\n",
       "      <th>5</th>\n",
       "      <td>2898(std)</td>\n",
       "      <td>0.673175</td>\n",
       "      <td>0.755971</td>\n",
       "      <td>0.252133</td>\n",
       "    </tr>\n",
       "  </tbody>\n",
       "</table>\n",
       "</div>"
      ],
      "text/plain": [
       "  Número de datos  Error medio  Error cuadrático medio        R2\n",
       "0             100     0.625835                0.648353  0.182089\n",
       "1            1000     0.595224                0.590997  0.254445\n",
       "2            2898     0.596128                0.592829  0.252133\n",
       "3        100(std)     0.706721                0.826774  0.182089\n",
       "4       1000(std)     0.672153                0.753635  0.254445\n",
       "5       2898(std)     0.673175                0.755971  0.252133"
      ]
     },
     "execution_count": 140,
     "metadata": {},
     "output_type": "execute_result"
    }
   ],
   "source": [
    "error_medio = []\n",
    "error_cuadrático_medio = []\n",
    "r2_score = []\n",
    "\n",
    "models = [regression_100, regression_1000, regression, \n",
    "          regression_100_std, regression_1000_std, regression_std]\n",
    "\n",
    "test_data = [X_test, X_test, X_test, X_test_std, X_test_std, X_test_std]\n",
    "test_target = [y_test, y_test, y_test, y_test_std, y_test_std, y_test_std]\n",
    "\n",
    "for model,data,target in zip(models, test_data, test_target):\n",
    "    \n",
    "    y_hat = model.predict(data)\n",
    "    error_medio.append( np.mean( np.absolute(y_hat - target)))\n",
    "    error_cuadrático_medio.append( np.mean((y_hat - target) ** 2))\n",
    "    r2_score.append(model.score(data, target))\n",
    "    \n",
    "model_results = pd.DataFrame({\n",
    "    \"Número de datos\" : [\"100\", \"1000\", \"2898\", \"100(std)\", \"1000(std)\", \"2898(std)\"],\n",
    "    \"Error medio\" : error_medio,\n",
    "    \"Error cuadrático medio\" : error_cuadrático_medio,\n",
    "    \"R2\" : r2_score    \n",
    "})\n",
    "\n",
    "model_results"
   ]
  },
  {
   "cell_type": "markdown",
   "metadata": {},
   "source": [
    "## Conclusiones\n",
    "- Es posible afirmar que, a partir de los puntajes R2 obtenidos, un modelo lineal no es el adecuado para el objetivo planteado.\n",
    "- Por otro lado, se evidencio que la normalización de los datos no tuvo ningún efectivo positivo en el desempeño del modelo.\n",
    "- Debido a que las calidades del vino son variables discretas ordinales, se puede afirmar que una regresión lineal no captura adecuadamente la relación entre las variables y la predicción a realzar."
   ]
  },
  {
   "cell_type": "markdown",
   "metadata": {},
   "source": [
    "# Bilbiografia\n",
    "- P. Cortez, A. Cerdeira, F. Almeida, T. Matos and J. Reis. Modeling wine preferences by data mining from physicochemical properties. In Decision Support Systems, Elsevier, 47(4):547-553, 2009."
   ]
  }
 ],
 "metadata": {
  "kernelspec": {
   "display_name": "Python 3",
   "language": "python",
   "name": "python3"
  },
  "language_info": {
   "codemirror_mode": {
    "name": "ipython",
    "version": 3
   },
   "file_extension": ".py",
   "mimetype": "text/x-python",
   "name": "python",
   "nbconvert_exporter": "python",
   "pygments_lexer": "ipython3",
   "version": "3.7.6"
  }
 },
 "nbformat": 4,
 "nbformat_minor": 2
}
